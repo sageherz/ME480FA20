{
 "cells": [
  {
   "cell_type": "markdown",
   "metadata": {
    "nbgrader": {
     "grade": false,
     "grade_id": "cell-f465783792a7ed75",
     "locked": true,
     "schema_version": 3,
     "solution": false
    },
    "toc": "true"
   },
   "source": [
    "<h1>Table of Contents<span class=\"tocSkip\"></span></h1>\n",
    "<div class=\"toc\"><ul class=\"toc-item\"><li><span><a href=\"#Lab-3-Pre-Lab-Assignment:-Due-Monday,-Aug-31\" data-toc-modified-id=\"Lab-3-Pre-Lab-Assignment:-Due-Monday,-Aug-31\"><span class=\"toc-item-num\">1&nbsp;&nbsp;</span>Lab 3 Pre-Lab Assignment: Due Monday, Aug 31</a></span><ul class=\"toc-item\"><li><span><a href=\"#Challenge\" data-toc-modified-id=\"Challenge-1.1\"><span class=\"toc-item-num\">1.1&nbsp;&nbsp;</span>Challenge</a></span></li><li><span><a href=\"#Safety-Controls-and-LCD-Screen\" data-toc-modified-id=\"Safety-Controls-and-LCD-Screen-1.2\"><span class=\"toc-item-num\">1.2&nbsp;&nbsp;</span>Safety Controls and LCD Screen</a></span></li><li><span><a href=\"#DESIGN-SPECIFICATIONS\" data-toc-modified-id=\"DESIGN-SPECIFICATIONS-1.3\"><span class=\"toc-item-num\">1.3&nbsp;&nbsp;</span>DESIGN SPECIFICATIONS</a></span></li><li><span><a href=\"#Arduino-Pins-and-LCD-Display\" data-toc-modified-id=\"Arduino-Pins-and-LCD-Display-1.4\"><span class=\"toc-item-num\">1.4&nbsp;&nbsp;</span>Arduino Pins and LCD Display</a></span></li></ul></li></ul></div>"
   ]
  },
  {
   "cell_type": "markdown",
   "metadata": {
    "nbgrader": {
     "grade": false,
     "grade_id": "cell-96fe71b12eac6f3c",
     "locked": true,
     "schema_version": 3,
     "solution": false
    }
   },
   "source": [
    "## Lab 3 Pre-Lab Assignment: Due Monday, Aug 31\n",
    "\n",
    "### Challenge\n",
    "\n",
    "In order to safely operate the motor test rig in the laboratory, you will need to control the operation of the motor such that:\n",
    "\n",
    "* The motor cannot be energized by simply closing a single switch or pressing a single button.\n",
    "* There will be a warning period that will allow either of the two operators to stop the motor before it begins moving if an unsafe conditions is discovered.\n",
    "* If the safety guard is lifted or an emergency stop button is pressed, the motor will be de-energized. The resulting 'faults' will need to be cleared, and the system will need to be manually reset before the motor can be restarted.\n",
    "\n",
    "The motor will be controled by the relay we have already used in Labs 1 and 2. The difference in this lab, is that we will be using the relay to actively turn the motor on or off. We will set up the system so that when this relay is energized, the motor will be connected to a power source. If the relay is not energized, the motor will not be allowed to spin. Electo-mechancial devices like relays are often used as failsafe controls on rotating machinery because of their simplicity and robustness. The objective of Lab 3 will be to built a user interface to safely control the operation of the failsafe relay, and thus of the motor itself.\n",
    "\n",
    "**NOTE:** These design specifications, like those you might receive from a customer as an engineer, are subject to clarification and addition! "
   ]
  },
  {
   "cell_type": "markdown",
   "metadata": {},
   "source": [
    "### Safety Controls and LCD Screen\n",
    "\n",
    "You will use your Micro-Rig's safety control section and the LCD panel to control the operation and display the status of your system. Specifically, you will use the following user interfaces:\n",
    "\n",
    "IMAGES HERE\n",
    "\n"
   ]
  },
  {
   "cell_type": "markdown",
   "metadata": {
    "nbgrader": {
     "grade": false,
     "grade_id": "cell-26570155e484e507",
     "locked": true,
     "schema_version": 3,
     "solution": false
    }
   },
   "source": [
    "### DESIGN SPECIFICATIONS\n",
    "\n",
    "* The STOP/SAFE and READY conditions are controlled by the Stop/Safe-Ready slide switch in the center of the safety controls. By its design, the switch will be in one state or the other and cannot be in both at the same time.\n",
    "* When the system is in SAFE mode the motor will be disconnected and the green Safe_LED will be constantly illuminated.\n",
    "* To enter READY mode, the system must be in SAFE mode and the slide switch must change from Stop/Safe to READY.  The READY mode cannot be entered if there is a fault (defined below). The LED will change from the constant green of the SAFE mode to a constant red (Ready_LED) idicating the system is in the ready mode.\n",
    "* If the system is in READY mode and user holds down both RUN (RUN1 and RUN2) buttons continuously for 2 seconds, the system will enter RUNNING mode.  During the 2 seconds, the system will be in WARNING mode which will be indicated by flashing the red Ready_LED.  \n",
    "* WARNING mode will be terminated and the system will return to READY mode if either RUN button is released before the 2 seconds has passed. \n",
    "* In RUNNING mode, the RUN buttons can be released and the motor will stay connected. In running mode the blue Run_LED will be constantly illuminated.\n",
    "* The relay is used to connect the power to the motor. The relay coil is only energized (on) when the system is in RUNNING mode. \n",
    "* A fault is defined as the limit switch not being closed (the safety shield has been lifted out of place) or the E-Stop button has been pressed.  \n",
    "* A fault will cause the system to leave its current mode and enter FAULT mode no matter what other mode the system was in.  \n",
    "* The system can only go to SAFE mode from FAULT mode.  To enter SAFE from FAULT, the fault must be cleared (close safety shield and release the E-stop button) and the STOP/SAFE switch must be cycled from the Ready position to the STOP/SAFE position.\n",
    "* If the slider switch is moved to STOP/SAFE at anytime, the system will leave its current mode and go to SAFE mode except if there is a fault.  Moving the switch to STOP/SAFE in FAULT mode will not change the mode until the faults are cleared.\n",
    "* Initially, the program starts in FAULT mode regardless of the positions of the limit switch or the E-Stop button. It remains in this state until the system enters SAFE mode as described below.\n",
    "\n",
    "Indicator operations\n",
    "* READY, SAFE and RUNNING are illuminated continuously when the system is in those modes.\n",
    "* When in WARNING mode or FAULT mode, the appropriate indicator flashes at 2 Hz.\n",
    "* The LCD display will be used to display the current state, the condition of the two run buttons and if the motor is connected or disconnected. The display format is given below. \n",
    "* You will display current mode in the first row of the LCD panel.\n",
    "* You will display the status of the RUN1 button in the first column of the second row of the LCD panel. If the switch is pressed the display will show * if not pressed it will show -.\n",
    "* You will display the status of the RUN2 button in the last column of the second row of the LCD panel. If the switch is pressed the display will show * if not pressed it will show -.\n",
    "* If the relay is energized (the motor is connected) the LCD will display CONN in columns 2-5 of the second row. If the relay is not enegrized the LCD will display DISC in columns 2-5 of the second row.\n",
    "\n"
   ]
  },
  {
   "cell_type": "markdown",
   "metadata": {
    "nbgrader": {
     "grade": false,
     "grade_id": "cell-714a195f113c81c6",
     "locked": true,
     "schema_version": 3,
     "solution": false
    }
   },
   "source": [
    "### Arduino Pins and LCD Display\n",
    "\n",
    "All of the switches, buttons and relay are already wired to the Arduion through the circuit board. The pin numbers for each of the devices can be found in the hardware resource. The operation of the LCD panel is described in the ??????????"
   ]
  },
  {
   "cell_type": "markdown",
   "metadata": {
    "nbgrader": {
     "grade": false,
     "grade_id": "cell-91ba1ad305d7cd39",
     "locked": true,
     "schema_version": 3,
     "solution": false
    }
   },
   "source": [
    "Develop a State Transition Diagram for this system and paste it into the MARKDOWN cell below."
   ]
  },
  {
   "cell_type": "markdown",
   "metadata": {
    "nbgrader": {
     "grade": true,
     "grade_id": "cell-fa586ba719901d79",
     "locked": false,
     "points": 5,
     "schema_version": 3,
     "solution": true
    }
   },
   "source": []
  },
  {
   "cell_type": "markdown",
   "metadata": {
    "nbgrader": {
     "grade": false,
     "grade_id": "cell-0a50c1e6c9df0346",
     "locked": true,
     "schema_version": 3,
     "solution": false
    }
   },
   "source": [
    "Develop a State Transition Table using MARKDOWN in the cell below."
   ]
  },
  {
   "cell_type": "markdown",
   "metadata": {
    "nbgrader": {
     "grade": true,
     "grade_id": "cell-dfbbc90260300c75",
     "locked": false,
     "points": 5,
     "schema_version": 3,
     "solution": true
    }
   },
   "source": []
  }
 ],
 "metadata": {
  "celltoolbar": "Create Assignment",
  "hide_input": false,
  "kernelspec": {
   "display_name": "Octave",
   "language": "octave",
   "name": "octave"
  },
  "language_info": {
   "file_extension": ".m",
   "help_links": [
    {
     "text": "GNU Octave",
     "url": "https://www.gnu.org/software/octave/support.html"
    },
    {
     "text": "Octave Kernel",
     "url": "https://github.com/Calysto/octave_kernel"
    },
    {
     "text": "MetaKernel Magics",
     "url": "https://metakernel.readthedocs.io/en/latest/source/README.html"
    }
   ],
   "mimetype": "text/x-octave",
   "name": "octave",
   "version": "4.2.2"
  },
  "nbTranslate": {
   "displayLangs": [
    "*"
   ],
   "hotkey": "alt-t",
   "langInMainMenu": true,
   "sourceLang": "en",
   "targetLang": "fr",
   "useGoogleTranslate": true
  },
  "toc": {
   "base_numbering": 1,
   "nav_menu": {
    "height": "12px",
    "width": "252px"
   },
   "number_sections": true,
   "sideBar": true,
   "skip_h1_title": true,
   "title_cell": "Table of Contents",
   "title_sidebar": "Contents",
   "toc_cell": true,
   "toc_position": {},
   "toc_section_display": "block",
   "toc_window_display": false
  },
  "varInspector": {
   "cols": {
    "lenName": 16,
    "lenType": 16,
    "lenVar": 40
   },
   "kernels_config": {
    "python": {
     "delete_cmd_postfix": "",
     "delete_cmd_prefix": "del ",
     "library": "var_list.py",
     "varRefreshCmd": "print(var_dic_list())"
    },
    "r": {
     "delete_cmd_postfix": ") ",
     "delete_cmd_prefix": "rm(",
     "library": "var_list.r",
     "varRefreshCmd": "cat(var_dic_list()) "
    }
   },
   "types_to_exclude": [
    "module",
    "function",
    "builtin_function_or_method",
    "instance",
    "_Feature"
   ],
   "window_display": false
  }
 },
 "nbformat": 4,
 "nbformat_minor": 2
}
