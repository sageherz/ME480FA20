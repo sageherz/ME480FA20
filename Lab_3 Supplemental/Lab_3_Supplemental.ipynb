{
 "cells": [
  {
   "cell_type": "markdown",
   "metadata": {
    "toc": true
   },
   "source": [
    "<h1>Table of Contents<span class=\"tocSkip\"></span></h1>\n",
    "<div class=\"toc\"><ul class=\"toc-item\"><li><span><a href=\"#Lab-3-Demonstration-Video-Script\" data-toc-modified-id=\"Lab-3-Demonstration-Video-Script-1\"><span class=\"toc-item-num\">1&nbsp;&nbsp;</span>Lab 3 Demonstration Video Script</a></span></li></ul></div>"
   ]
  },
  {
   "cell_type": "markdown",
   "metadata": {
    "deletable": false,
    "editable": false,
    "nbgrader": {
     "cell_type": "markdown",
     "checksum": "5c08ecb023369a05f118a4c16a152a01",
     "grade": false,
     "grade_id": "cell-5c737295e21a42cc",
     "locked": true,
     "schema_version": 3,
     "solution": false
    }
   },
   "source": [
    "# Lab 3 Supplmental:\n",
    "\n",
    "## Lab 3 Demonstration Video Script\n",
    "\n",
    "In order to test your design and confirm it is validated, perform the following sequence of actions when recording your video for Lab 3.\n",
    "\n",
    "1. Begin with E-Stop deactivated,safety shield down, and reset the Arduino.\n",
    "2. You should begin in Fault. Clear the Fault state.\n",
    "3. Show LCD and how each button changes the display.\n",
    "4. Go to the READY state (show LCD)\n",
    "5. Go to the STOP/SAFE state (show LCD)\n",
    "6. Go to the READY state\n",
    "7. Press one *run* button, release. Press the other *run* button and release. You should not change states\n",
    "8. Press both *run* buttons, but release one *run* button while still in WARNING. You should return to READY.\n",
    "9. Press both *run* buttons and, while in WARNING, press the *E-stop* button. You should be in FAULT\n",
    "10. Clear the fault, enter STOP/SAFE and then move to READY.\n",
    "11. Press both *run* buttons and, while in WARNING, open the safety shield. You should be in FAULT\n",
    "12. Clear the fault, enter STOP/SAFE and then move to READY.\n",
    "13. Press both *run* buttons and hold to enter RUN. Show the LCD and show the motor is running.\n",
    "14. Open the shield. You should enter FAULT.\n",
    "15. Slide switch to *Stop/Safe*. You should stay in FAULT.\n",
    "16. Slide switch to *Ready*. You should stay in FAULT.\n",
    "17. Clear the fault and return to STOP/SAFE.\n",
    "18. Move to the RUN state and press the *E-stop* button. You should enter FAULT.\n",
    "20. Clear the fault and finish in STOP/SAFE."
   ]
  },
  {
   "cell_type": "code",
   "execution_count": null,
   "metadata": {},
   "outputs": [],
   "source": []
  }
 ],
 "metadata": {
  "kernelspec": {
   "display_name": "Octave",
   "language": "octave",
   "name": "octave"
  },
  "language_info": {
   "file_extension": ".m",
   "help_links": [
    {
     "text": "GNU Octave",
     "url": "https://www.gnu.org/software/octave/support.html"
    },
    {
     "text": "Octave Kernel",
     "url": "https://github.com/Calysto/octave_kernel"
    },
    {
     "text": "MetaKernel Magics",
     "url": "https://metakernel.readthedocs.io/en/latest/source/README.html"
    }
   ],
   "mimetype": "text/x-octave",
   "name": "octave",
   "version": "4.2.2"
  },
  "toc": {
   "base_numbering": 1,
   "nav_menu": {},
   "number_sections": true,
   "sideBar": true,
   "skip_h1_title": true,
   "title_cell": "Table of Contents",
   "title_sidebar": "Contents",
   "toc_cell": true,
   "toc_position": {},
   "toc_section_display": true,
   "toc_window_display": false
  }
 },
 "nbformat": 4,
 "nbformat_minor": 2
}
