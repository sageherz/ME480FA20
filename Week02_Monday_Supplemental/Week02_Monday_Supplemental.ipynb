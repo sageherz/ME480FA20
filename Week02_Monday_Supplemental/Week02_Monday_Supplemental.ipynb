{
 "cells": [
  {
   "cell_type": "markdown",
   "metadata": {
    "toc": true
   },
   "source": [
    "<h1>Table of Contents<span class=\"tocSkip\"></span></h1>\n",
    "<div class=\"toc\"><ul class=\"toc-item\"><li><span><a href=\"#Built-In-Timers-and-Counters\" data-toc-modified-id=\"Built-In-Timers-and-Counters-1\"><span class=\"toc-item-num\">1&nbsp;&nbsp;</span>Built-In Timers and Counters</a></span><ul class=\"toc-item\"><li><span><a href=\"#Timer-Example\" data-toc-modified-id=\"Timer-Example-1.1\"><span class=\"toc-item-num\">1.1&nbsp;&nbsp;</span>Timer Example</a></span></li><li><span><a href=\"#Counter-Example\" data-toc-modified-id=\"Counter-Example-1.2\"><span class=\"toc-item-num\">1.2&nbsp;&nbsp;</span>Counter Example</a></span></li></ul></li></ul></div>"
   ]
  },
  {
   "cell_type": "markdown",
   "metadata": {},
   "source": [
    "# Built-In Timers and Counters\n",
    "\n",
    "The simulator below has built-in timers and counter.  The variables you can access are explained below.  \n",
    "\n",
    "\n",
    "| Timer 0 variables      |                                        |\n",
    "|:-----:|:--------------------------------------:|\n",
    "|T0_DUR | Timer preset duration                  |\n",
    "|T0_EN  | Enables the timer when TRUE            |\n",
    "|T0     | TRUE when elapsed time reaches duration|\n",
    "|TA0    | Elapsed time in milliseconds           |\n",
    "\n",
    "\n",
    "\n",
    "\n",
    "|  Counter 0 variables          |                                        |\n",
    "|:----------:|:--------------------------------------:|\n",
    "|CT0_CNT     | Counter preset value             |\n",
    "|CT0_UP      | On transition from FALSE to TRUE, count increases by 1            |\n",
    "|CT0_DOWN    | On transition from FALSE to TRUE, count decreases by 1            |   \n",
    "|CT0_RST     | Counter resets when TRUE  |\n",
    "|CT0         | TRUE when count reaches preset value |\n",
    "|CTA0        | Current count |\n",
    "\n",
    "Cut/Paste the following examples to confirm how these variables work"
   ]
  },
  {
   "cell_type": "markdown",
   "metadata": {},
   "source": [
    "## Timer Example\n",
    "\n",
    "The code below will enable the the T0 timer when X1 is pressed.  The Y2 light will turn on when the timer reaches the specified time duration. The Y3 light will turn on when the elapsed time has passed 3000 milli seconds.  When the button is released, the timer will reset."
   ]
  },
  {
   "cell_type": "markdown",
   "metadata": {},
   "source": [
    "``` javascript\n",
    "T0_DUR = 1000  //Timer 0 duration in milliseconds\n",
    "\n",
    "//Block 1\n",
    "T0_EN = X1\n",
    "\n",
    "//Block 2\n",
    "\n",
    "//Block 3\n",
    "\n",
    "//Block 4\n",
    "Y1 = T0        //Y1 light true if timer reaches duration\n",
    "Y2 = TA0>=3000   //Y2 light true if elapsed time reaches 3000\n",
    "```"
   ]
  },
  {
   "cell_type": "markdown",
   "metadata": {},
   "source": [
    "## Counter Example\n",
    "\n",
    "Pressing X1 will cause the counter to increase.  Pressing X2 will cause the counter to decrease.  Pressing X3 will reset the counter. The Y1 will light will turn on when the counter reaches the preset value.  The Y2 light will turn on when the count reaches at least 5."
   ]
  },
  {
   "cell_type": "markdown",
   "metadata": {},
   "source": [
    "``` javascript\n",
    "CT0_CNT = 3 // Counter 0 preset value\n",
    "\n",
    "//Block 1\n",
    "\n",
    "//NOTE that HOLDING X1, X2, or X3 DOES NOT continue to increase the count\n",
    "//The counter only increases/decreases on a transition from FALSE to TRUE\n",
    "CT0_UP   = X1     \n",
    "CT0_DOWN = X2\n",
    "CT0_RST  = X3\n",
    "\n",
    "//Block 2\n",
    "\n",
    "//Block 3\n",
    "\n",
    "//Block 4\n",
    "Y1 = CT0       //Y1 light true if counter reaches preset\n",
    "Y2 = CTA0>=5   //Y2 light true if count is at least 5\n",
    "```"
   ]
  },
  {
   "cell_type": "code",
   "execution_count": 1,
   "metadata": {},
   "outputs": [
    {
     "data": {
      "text/html": [
       "<iframe src=\"https://workbench.lafayette.edu/~brownaa/ME480/plainsim/plainsim.html\" width=\"1200\" height=\"1000\"></iframe>\n",
       "\n"
      ],
      "text/plain": [
       "<IPython.core.display.HTML object>"
      ]
     },
     "metadata": {},
     "output_type": "display_data"
    }
   ],
   "source": [
    "\n",
    "%%html\n",
    "<iframe src=\"https://workbench.lafayette.edu/~brownaa/ME480/plainsim/plainsim.html\" width=\"1200\" height=\"1000\"></iframe>\n",
    "\n"
   ]
  }
 ],
 "metadata": {
  "kernelspec": {
   "display_name": "Python 3",
   "language": "python",
   "name": "python3"
  },
  "language_info": {
   "codemirror_mode": {
    "name": "ipython",
    "version": 3
   },
   "file_extension": ".py",
   "mimetype": "text/x-python",
   "name": "python",
   "nbconvert_exporter": "python",
   "pygments_lexer": "ipython3",
   "version": "3.6.9"
  },
  "toc": {
   "base_numbering": 1,
   "nav_menu": {},
   "number_sections": true,
   "sideBar": false,
   "skip_h1_title": false,
   "title_cell": "Table of Contents",
   "title_sidebar": "Contents",
   "toc_cell": true,
   "toc_position": {
    "height": "calc(100% - 180px)",
    "left": "10px",
    "top": "150px",
    "width": "223.679px"
   },
   "toc_section_display": false,
   "toc_window_display": false
  }
 },
 "nbformat": 4,
 "nbformat_minor": 4
}
