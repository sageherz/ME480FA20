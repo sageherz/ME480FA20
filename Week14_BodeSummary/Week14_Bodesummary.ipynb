{
 "cells": [
  {
   "cell_type": "markdown",
   "metadata": {
    "toc": "true"
   },
   "source": [
    "<h1>Table of Contents<span class=\"tocSkip\"></span></h1>\n",
    "<div class=\"toc\"><ul class=\"toc-item\"><li><span><a href=\"#Summary-of-steps-to-sketch-asymptotic-Bode-plots\" data-toc-modified-id=\"Summary-of-steps-to-sketch-asymptotic-Bode-plots-1\"><span class=\"toc-item-num\">1&nbsp;&nbsp;</span>Summary of steps to sketch asymptotic Bode plots</a></span><ul class=\"toc-item\"><li><span><a href=\"#Asymptotic-magnitude-plot\" data-toc-modified-id=\"Asymptotic-magnitude-plot-1.1\"><span class=\"toc-item-num\">1.1&nbsp;&nbsp;</span>Asymptotic magnitude plot</a></span></li><li><span><a href=\"#Asymptotic-phase-plot\" data-toc-modified-id=\"Asymptotic-phase-plot-1.2\"><span class=\"toc-item-num\">1.2&nbsp;&nbsp;</span>Asymptotic phase plot</a></span></li></ul></li><li><span><a href=\"#Summary-of-steps-to-determine-a-transfer-function-from-a-Bode-magnitude-plot\" data-toc-modified-id=\"Summary-of-steps-to-determine-a-transfer-function-from-a-Bode-magnitude-plot-2\"><span class=\"toc-item-num\">2&nbsp;&nbsp;</span>Summary of steps to determine a transfer function from a Bode magnitude plot</a></span></li></ul></div>"
   ]
  },
  {
   "cell_type": "markdown",
   "metadata": {
    "resourcetopic": "Dynamic Modeling"
   },
   "source": [
    "## Summary of steps to sketch asymptotic Bode plots\n",
    "\n",
    "To construct an asymptotic Bode magnitude and phase plot given a known transfer function $P(s)$, follow the steps below.\n",
    "\n",
    "### Asymptotic magnitude plot\n",
    "1. Substitute $s=j\\omega$ to obtain the steady-state frequency response transfer function $P(j\\omega)$.\n",
    "2. Compute the magnitude response equation $\\frac{Y}{U} = \\left|P(j\\omega)\\right|$.\n",
    "4. Compute the steady-state gain for the transfer function by setting $\\omega=0$. If the transfer function has a pole (or set of repeated poles) at $\\omega=0$, you will not be able to find this (you'll get a division by zero). Find the gain at the lowest frequency you wish to see on your asymptotic Bode magnitude plot.\n",
    "5. The magnitude plot on a decibel-log-frequency scale will be flat until the first (slowest) corner frequency (pole or zero). At a frequency equal to each zero, the slope of the magnitude plot changes by $+20\\frac{dB}{decade}$ per order of the zero. At a frequency equal to each pole, the slope of the magnitude plot changes by $-20\\frac{dB}{decade}$ per order of the pole.\n",
    "\n",
    "### Asymptotic phase plot\n",
    "1. Substitute $s=j\\omega$ to obtain the steady-state frequency response transfer function $P(j\\omega)$.\n",
    "3. Compute the phase shift equation $\\phi = \\angle(P(j\\omega))$\n",
    "3. Draw an asymptotic phase plot for each pole and each zero (including multiple plots for repeated and underdamped 2nd order poles and zeros):\n",
    "4. For each pole, the asymptotic phase plot for this pole is flat at $0$ until $\\omega=\\frac{a}{5}$ where $a$ is the pole, unless the pole is at $\\omega=0$, in which case the phase plot is flat at low frequencies beginning at $\\phi=\\frac{\\pi}{2}p(-90 ^\\circ)$, where $p$ is the order of the pole at zero. Then, between $\\omega=\\frac{a}{5}$ and $\\omega={5a}$, the plot slopes down with a slope of $-\\frac{1}{2}\\log_e(10)$ and then is flat at $\\phi=\\frac{\\pi}{2}(-90 ^\\circ)$ from $\\omega=5a$ until $\\omega=\\infty$.\n",
    "5. For each zero, the asymptotic phase plot for this pole is flat at $0(0 ^\\circ)$ until $\\omega=\\frac{a}{5}$ where $a$ is the pole, unless the zero is at $\\omega=0$, in which case the phase plot is flat at low frequencies beginning at $\\phi=90p^\\circ$, where $p$ is the order of the zero at $\\omega=0$. Then, between $\\omega=\\frac{a}{5}$ and $\\omega={5a}$, the plot slopes up with a slope of $\\frac{1}{2}\\log_e(10)$ and then is flat at $\\phi=\\frac{\\pi}{2}(90 ^\\circ)$ from $\\omega=5a$ until $\\omega=\\infty$.\n",
    "6. The total asymptotic phase plot can be constructed by summing the component \"first order\" phase plots.\n",
    "\n",
    "\n",
    "Remember that you can always check your work using MATLAB's \"bode\" command."
   ]
  },
  {
   "cell_type": "markdown",
   "metadata": {
    "resourcetopic": "Dynamic Modeling"
   },
   "source": [
    "## Summary of steps to determine a transfer function from a Bode magnitude plot"
   ]
  },
  {
   "cell_type": "markdown",
   "metadata": {
    "resourcetopic": "Dynamic Modeling"
   },
   "source": [
    "If you're presented with a Bode magnitude plot (obtained from a datasheet or an experiment) and you wish to determine a transfer function for the system it represents, follow the steps below:\n",
    "\n",
    "1. Draw lines tangent to any apparent linear segments of the Bode plot. Take care not to draw linear approximations of small \"resonant peaks\" that may be the result of an underdamped, second-order pole.\n",
    "2. The poles of the system are the \"corners\" where the asymptotes intersect and where the slope of your asymptotic approximation changes by a negative number. The pole may be repeated, and the slope change you should expect is $-20\\frac{dB}{decade}$ per order of the pole.\n",
    "2. The zeros of the system are the \"corners\" where the asymptotes intersect and where the slope of your asymptotic approximation changes by a positive number. The pole may be repeated, and the slope change you should expect is $+20\\frac{dB}{decade}$ per order of the zero.\n",
    "3. If the system is flat on the low-end of the frequency spectrum shown on the magnitude plot, find the steady-state gain of the system, and use it to scale your transfer function.\n",
    "4. If the system immediately slopes upward or downward at the lowest frequency shown on the magnitude plot, suspect that the transfer function has a pole or zero at $\\omega=0$. Use the gain at the lowest frequency shown to determine the steady-state scaling for the system's transfer function using the magnitude equation."
   ]
  }
 ],
 "metadata": {
  "hide_input": false,
  "kernelspec": {
   "display_name": "Octave",
   "language": "octave",
   "name": "octave"
  },
  "language_info": {
   "file_extension": ".m",
   "help_links": [
    {
     "text": "GNU Octave",
     "url": "https://www.gnu.org/software/octave/support.html"
    },
    {
     "text": "Octave Kernel",
     "url": "https://github.com/Calysto/octave_kernel"
    },
    {
     "text": "MetaKernel Magics",
     "url": "https://metakernel.readthedocs.io/en/latest/source/README.html"
    }
   ],
   "mimetype": "text/x-octave",
   "name": "octave",
   "version": "4.2.2"
  },
  "nbTranslate": {
   "displayLangs": [
    "*"
   ],
   "hotkey": "alt-t",
   "langInMainMenu": true,
   "sourceLang": "en",
   "targetLang": "fr",
   "useGoogleTranslate": true
  },
  "toc": {
   "base_numbering": 1,
   "nav_menu": {
    "height": "99px",
    "width": "252px"
   },
   "number_sections": true,
   "sideBar": true,
   "skip_h1_title": true,
   "title_cell": "Table of Contents",
   "title_sidebar": "Contents",
   "toc_cell": true,
   "toc_position": {},
   "toc_section_display": "block",
   "toc_window_display": false
  },
  "varInspector": {
   "cols": {
    "lenName": 16,
    "lenType": 16,
    "lenVar": 40
   },
   "kernels_config": {
    "python": {
     "delete_cmd_postfix": "",
     "delete_cmd_prefix": "del ",
     "library": "var_list.py",
     "varRefreshCmd": "print(var_dic_list())"
    },
    "r": {
     "delete_cmd_postfix": ") ",
     "delete_cmd_prefix": "rm(",
     "library": "var_list.r",
     "varRefreshCmd": "cat(var_dic_list()) "
    }
   },
   "types_to_exclude": [
    "module",
    "function",
    "builtin_function_or_method",
    "instance",
    "_Feature"
   ],
   "window_display": false
  }
 },
 "nbformat": 4,
 "nbformat_minor": 2
}
