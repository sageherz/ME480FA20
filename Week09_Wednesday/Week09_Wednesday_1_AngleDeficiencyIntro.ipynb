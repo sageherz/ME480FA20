{
 "cells": [
  {
   "cell_type": "markdown",
   "metadata": {
    "deletable": false,
    "editable": false,
    "nbgrader": {
     "cell_type": "markdown",
     "checksum": "54f3f82009773ac214a1dc1721b1a244",
     "grade": false,
     "grade_id": "cell-52ec85b1ef5266c5",
     "locked": true,
     "schema_version": 3,
     "solution": false,
     "task": false
    },
    "toc": "true"
   },
   "source": [
    "<h1>Table of Contents<span class=\"tocSkip\"></span></h1>\n",
    "<div class=\"toc\"><ul class=\"toc-item\"><li><span><a href=\"#Controller-Design:-The-Root-Locus-Angle-Deficiency-Method\" data-toc-modified-id=\"Controller-Design:-The-Root-Locus-Angle-Deficiency-Method-1\"><span class=\"toc-item-num\">1&nbsp;&nbsp;</span><em>Controller Design:</em> The Root Locus Angle Deficiency Method</a></span><ul class=\"toc-item\"><li><span><a href=\"#Example:-Angle-Deficiency-Design-steps-1-2\" data-toc-modified-id=\"Example:-Angle-Deficiency-Design-steps-1-2-1.1\"><span class=\"toc-item-num\">1.1&nbsp;&nbsp;</span>Example: Angle Deficiency Design steps 1-2</a></span></li><li><span><a href=\"#Where-we're-heading\" data-toc-modified-id=\"Where-we're-heading-1.2\"><span class=\"toc-item-num\">1.2&nbsp;&nbsp;</span>Where we're heading</a></span></li><li><span><a href=\"#Root-locus-of-a-system-under-PD-Control\" data-toc-modified-id=\"Root-locus-of-a-system-under-PD-Control-1.3\"><span class=\"toc-item-num\">1.3&nbsp;&nbsp;</span>Root locus of a system under PD Control</a></span></li><li><span><a href=\"#PD-control-design-using-Angle-Deficiency\" data-toc-modified-id=\"PD-control-design-using-Angle-Deficiency-1.4\"><span class=\"toc-item-num\">1.4&nbsp;&nbsp;</span>PD control design using Angle Deficiency</a></span></li><li><span><a href=\"#Root-locus-of-a-system-under-PI-control\" data-toc-modified-id=\"Root-locus-of-a-system-under-PI-control-1.5\"><span class=\"toc-item-num\">1.5&nbsp;&nbsp;</span>Root locus of a system under PI control</a></span></li><li><span><a href=\"#Angle-Deficiency-Design-for-PI-Control\" data-toc-modified-id=\"Angle-Deficiency-Design-for-PI-Control-1.6\"><span class=\"toc-item-num\">1.6&nbsp;&nbsp;</span>Angle Deficiency Design for PI Control</a></span></li></ul></li><li><span><a href=\"#Summary-of-Angle-Deficiency-Goals-and-Process\" data-toc-modified-id=\"Summary-of-Angle-Deficiency-Goals-and-Process-2\"><span class=\"toc-item-num\">2&nbsp;&nbsp;</span>Summary of Angle Deficiency Goals and Process</a></span></li></ul></div>"
   ]
  },
  {
   "cell_type": "markdown",
   "metadata": {
    "deletable": false,
    "editable": false,
    "nbgrader": {
     "cell_type": "markdown",
     "checksum": "84e9104635b28af8fdde885c481c3d39",
     "grade": false,
     "grade_id": "cell-19d09102411bedc5",
     "locked": true,
     "schema_version": 3,
     "solution": false,
     "task": false
    }
   },
   "source": [
    "# Challenge\n",
    "\n",
    "In today's notebook, your challenge is to use **everything** you've learned about the root locus to learn to place a **controller's zero** in *just the right place* so that our system's root locus passes through a desired eigenvalue! This technique can be used to design controllers for higher-order (3rd and above) systems! \n",
    "\n",
    "In our examples and in this week's (lab 6), we are using \"guess and check\" to find out the right location for our PI controller's zero.  While this is fine, it can take quite a while! An analytical tool that would allow us to place this zero \"automatically\" would save lots of time!\n",
    "\n",
    "**IMPORTANT: This notebook provides an interactive plot as a tool to help you build understanding. This plot is coded in the Python language, so in order to use Octave language in this notebook, we need a special `magic` command at the top of each code cell. To enable this, you MUST run the cell below before running any example code written in the Octave language.**\n",
    "\n",
    "**ALSO IMPORTANT**: Today's exercise is in a separate notebook"
   ]
  },
  {
   "cell_type": "code",
   "execution_count": 1,
   "metadata": {
    "deletable": false,
    "editable": false,
    "nbgrader": {
     "cell_type": "code",
     "checksum": "f447d8145ac87dcd4e6eccfb1ba5f5fd",
     "grade": false,
     "grade_id": "cell-f868fca6c77062ed",
     "locked": true,
     "schema_version": 3,
     "solution": false,
     "task": false
    }
   },
   "outputs": [],
   "source": [
    "%load_ext oct2py.ipython"
   ]
  },
  {
   "cell_type": "code",
   "execution_count": null,
   "metadata": {},
   "outputs": [],
   "source": []
  },
  {
   "cell_type": "markdown",
   "metadata": {
    "deletable": false,
    "editable": false,
    "nbgrader": {
     "cell_type": "markdown",
     "checksum": "b70335e2d3c313d872219f9f9d9b8cac",
     "grade": false,
     "grade_id": "cell-f44c07eb801757a4",
     "locked": true,
     "schema_version": 3,
     "solution": false
    }
   },
   "source": [
    "## *Controller Design:* The Root Locus Angle Deficiency Method\n",
    "\n",
    "At this point, you probably have a pretty good handle on what it means to sketch a root locus, but you might be wondering how it is used to design controllers for systems that may be too complex for the \"direct method\" of manipulating the characteristic equation.\n",
    "\n",
    "The process we'll follow is actually very similar to the process we used for calculating angles of departure and arrival in our root locus sketching steps. This design process is called the **angle deficiency method** of controller design. The design process consists of a few simple steps:\n",
    "\n",
    "1. Sketch the root locus of our system under proportional control, along with a target \"dominant\" eigenvalue $s_d$ that we wish the system to have after the design is complete. If the rightmost (slowest) branches pass through a suitable eigenvalue that meets your design requirement, use the magnitude criterion to find the necessary proportional gain $K_p$ to achieve your goal, and proceed to step 6. If not, proceed to step 2.\n",
    "\n",
    "\n",
    "2. If the system is unable to reach our performance target under proportional control, determine whether adding a first-order zero (PD control), a first-order zero and a pole at the origin (PI control), or a second-order zero and a pole at the origin (PID control) might \"bend\" the root locus in the proper direction to allow you to hit your desired eigenvalue location. In general, if you need to \"bend\" the rightmost root locus branches to the left, try PD control first, and if you need to \"bend\" the rightmost branches to the right, try PI control first. \n",
    "3. Using PD, PI, or PID control, and the angle criterion for the root locus, calculate the location of the controller zero(s) that will allow the root locus to hit your desired eigenvalue location $s_d$. \n",
    "\n",
    "\n",
    "4. Using the magnitude criterion, calculate the \"root locus gain\" $K$ that will allow you to achieve your desired eigenvalue with your chosen zero location. \n",
    "5. Using your controller transfer function, the now-known zero location(s) and root locus gain, calculate the unknown controller gains needed to implement your controller.\n",
    "6. Simulate the response of your system under closed-loop control given your new controller design. Pay particular attention to the minimum and maximum controller outputs (plant inputs) that result from a step input on $r(s)$ of a magnitude relevant to your overall design goals. If the controller is physically feasible, you're done! If it is not, you may have to rethink your design.\n",
    "\n",
    "### Example: Angle Deficiency Design steps 1-2\n",
    "To illustrate the necessity of steps 2-5 of this process, consider a scenario in which you'd like to control a second-order system with:\n",
    "$$P(s) = \\frac{1}{(s+8)(s+12)},H(s)=1$$\n",
    "\n",
    "Let's say that we'd like to hit closed loop performance with $\\zeta=.707$ and $\\omega_n=\\sqrt{288}\\frac{rad}{s}$, which puts our desired closed loop eigenvalue at $s_d=-12+12j$. If you don't remember why, revisit the [Week 3 Monday notebook](../Week03_Monday/Week03_Monday.ipynb##Damping-Ratio,-Natural-Frequency,-and-Damped-Natural-Frequency-for-underdamped-systems), and its discussion of complex conjugate pole pairs.\n",
    "\n",
    "Step 1 of the angle deficiency design process says that we should try proportional control first. Under proportional control, our system's root locus looks like this:"
   ]
  },
  {
   "cell_type": "markdown",
   "metadata": {
    "deletable": false,
    "editable": false,
    "nbgrader": {
     "cell_type": "markdown",
     "checksum": "9c280b4eb232ca5e41538a4d98378d77",
     "grade": false,
     "grade_id": "cell-5177f55068e8ccd5",
     "locked": true,
     "schema_version": 3,
     "solution": false
    }
   },
   "source": [
    "<img src=\"data:image/png;base64,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\" style=\"cursor:pointer;max-width:100%;\" onclick=\"(function(img){if(img.wnd!=null&&!img.wnd.closed){img.wnd.focus();}else{var r=function(evt){if(evt.data=='ready'&&evt.source==img.wnd){img.wnd.postMessage(decodeURIComponent(img.getAttribute('src')),'*');window.removeEventListener('message',r);}};window.addEventListener('message',r);img.wnd=window.open('https://www.draw.io/?client=1&lightbox=1&edit=_blank');}})(this);\"/>"
   ]
  },
  {
   "cell_type": "markdown",
   "metadata": {
    "deletable": false,
    "editable": false,
    "nbgrader": {
     "cell_type": "markdown",
     "checksum": "8917302e68f91c5e917b87ed4d42a7fc",
     "grade": false,
     "grade_id": "cell-845f4602ed9a3317",
     "locked": true,
     "schema_version": 3,
     "solution": false
    }
   },
   "source": [
    "So, for this scenario, we will need a controller other than a proportional controller to achieve our performance goals. \n",
    "\n",
    "To decide which type of controller we'll need, we calculate the \"angle deficiency\" of the system under proportional control. In other words, we calculate how far from $\\angle G(s)H(s) = \\pm 180^\\circ$ our system is. To do this, let's calculate the angle of the transfer function $G(s)H(s)$ when it is evaluated at $s = s_d=-12+12j$.\n",
    "\n",
    "We'll use the method we learned for calculating angles of departure and arrival, which is generalizable to any scenario in which we need to find a \"missing angle,\" or **angle deficiency,** needed to satisfy the angle criterion. In other words, if the point $s_d$ was on the root locus, we would know that\n",
    "\n",
    "$$\\left.\\angle(G(s)H(s))\\right|_{s=s_d}=\\sum(\\angle zeros(G(s)H(s))\\rightarrow s_d) - \\sum(\\angle poles(G(s)H(s))\\rightarrow s_d)=\\pm 180^\\circ$$"
   ]
  },
  {
   "cell_type": "markdown",
   "metadata": {
    "deletable": false,
    "editable": false,
    "nbgrader": {
     "cell_type": "markdown",
     "checksum": "050a09369f280f067ef7bfc845296de0",
     "grade": false,
     "grade_id": "cell-5cb846537abfaaf8",
     "locked": true,
     "schema_version": 3,
     "solution": false
    }
   },
   "source": [
    "<img src=\"data:image/png;base64,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\" style=\"cursor:pointer;max-width:100%;\" onclick=\"(function(img){if(img.wnd!=null&&!img.wnd.closed){img.wnd.focus();}else{var r=function(evt){if(evt.data=='ready'&&evt.source==img.wnd){img.wnd.postMessage(decodeURIComponent(img.getAttribute('src')),'*');window.removeEventListener('message',r);}};window.addEventListener('message',r);img.wnd=window.open('https://www.draw.io/?client=1&lightbox=1&edit=_blank');}})(this);\"/>"
   ]
  },
  {
   "cell_type": "markdown",
   "metadata": {
    "deletable": false,
    "editable": false,
    "nbgrader": {
     "cell_type": "markdown",
     "checksum": "eb18388462d2e113b927917f63904fac",
     "grade": false,
     "grade_id": "cell-deb5344618d6d89b",
     "locked": true,
     "schema_version": 3,
     "solution": false
    }
   },
   "source": [
    "For our example system, the angle equation for the open loop transfer function evaluated at $s=s_d$ can be written: \n",
    "\n",
    "$$\\left.\\angle(G(s)H(s))\\right|_{s=s_d}=0-\\angle p_1 - \\angle p_2 = 0 - \\tan^{-1}\\left(\\frac{12}{0}\\right) - \\tan^{-1}\\left(\\frac{12}{-4}\\right) = 0-90^\\circ-108.43^\\circ = -198.43^\\circ \\neq -180^\\circ$$\n",
    "\n",
    "As you can see, the point $s_d=-12+12j$ is **not** on the root locus because the angle of our transfer function $G(s)H(s)$ is not $\\pm 180^\\circ$. We call the angle $-180^\\circ-(-198.43^\\circ) = 18.43^\\circ$ the **angle deficiency** of the system, which we usually denote as $\\alpha$. Formally, we say that:\n",
    "\n",
    "$$\\alpha = 180 - \\left.\\angle(G(s)H(s))\\right|_{s=s_d}$$\n",
    "\n",
    "This angle deficiency for our example system is positive, which means that the root locus branches would have to bend to the *left* in order to hit our desired point $s=s_d$. This means, according to the steps above, that that we will likely have the best luck with PD control first. This is the subject of the next section of this reading. \n",
    "\n",
    "**Note:** I generally use either $-180^\\circ$ or $180^\\circ$ for evaluating the angle criterion based on which is closer to the total angle of my transfer function evaluated at a particular point. Notice that if we had evaluated the angle deficiency using $+180^\\circ$ for this example, we would have found that $\\alpha=378.43^\\circ$, which, when $360^\\circ$ is subtracted (to avoid repeating angles), gives us an identical answer of $\\alpha=18.43^\\circ$."
   ]
  },
  {
   "cell_type": "markdown",
   "metadata": {
    "deletable": false,
    "editable": false,
    "nbgrader": {
     "cell_type": "markdown",
     "checksum": "6895f5f21272c9a7033b757ead840069",
     "grade": false,
     "grade_id": "cell-04300b35f4159ae7",
     "locked": true,
     "schema_version": 3,
     "solution": false
    }
   },
   "source": [
    "### Where we're heading\n",
    "\n",
    "This notebook covers angle deficiency design of PD and PI controllers. Before we begin the angle deficiency design for each controller type, we will take a quick look back at how we can modify the PD, and PI control transfer functions we learned about so that they are applicable to the \"canonical\" root locus block diagram we've been using. Specifically, recall that a root locus is only useful if we vary *one* parameter in our controller, so we'll have to factor one value out of our controller in order for root locus analysis to be helpful.\n",
    "\n",
    "### Root locus of a system under PD Control \n",
    "\n",
    "If we have a PD controller with a transfer function $C(s)=K_{sum}(K_p+K_ds)$, or a PD controller with a \"summing gain,\" we generally will factor $K_d$ out of $C(s)$ as follows:\n",
    "\n",
    "$$C(s) = K_{sum}\\left(K_p + K_ds\\right)=K_{sum}K_d\\left(s+\\frac{K_p}{K_d}\\right)$$\n",
    "\n",
    "What this does is it explicitly calls out the zero that the PD controller adds to the \"forward path\" of the control system at $s=-\\frac{K_p}{K_d}$. The \"summing gain,\" which scales the **entire control signal u(s)**, allows us to \"walk around\" the root locus without changing the zero location, which is dictated by the ratio of kp and kd. Changing either one of these would change the zero location.\n",
    "\n",
    "Let's call that zero location, which we can fix by fixing the ratio $\\frac{k_p}{k_d}$, \"$z$\" and rewrite the controller transfer function again:\n",
    "\n",
    "$$C(s)= K_{sum}K_d\\left(s+z\\right)$$\n",
    "\n",
    "Now, let's wrap $K_{sum}K_d$ into one \"gain factor\" which we'll call $K$, so that the system matches what we drew above.\n",
    "\n",
    "$$C(s) = KC^\\star(s)= K\\left(s+z\\right)$$\n",
    "\n",
    "Now, we draw the system with the plant $P(s)$ and the controller $C(s)$ as the following block diagram:"
   ]
  },
  {
   "cell_type": "markdown",
   "metadata": {
    "deletable": false,
    "editable": false,
    "nbgrader": {
     "cell_type": "markdown",
     "checksum": "0c3964d328bc606d4da560c0a861344d",
     "grade": false,
     "grade_id": "cell-495a0772ee656dde",
     "locked": true,
     "schema_version": 3,
     "solution": false
    }
   },
   "source": [
    "<img src=\"data:image/png;base64,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\" style=\"cursor:pointer;max-width:100%;\" onclick=\"(function(img){if(img.wnd!=null&&!img.wnd.closed){img.wnd.focus();}else{var r=function(evt){if(evt.data=='ready'&&evt.source==img.wnd){img.wnd.postMessage(decodeURIComponent(img.getAttribute('src')),'*');window.removeEventListener('message',r);}};window.addEventListener('message',r);img.wnd=window.open('https://www.draw.io/?client=1&lightbox=1&edit=_blank');}})(this);\"/>"
   ]
  },
  {
   "cell_type": "markdown",
   "metadata": {
    "deletable": false,
    "editable": false,
    "nbgrader": {
     "cell_type": "markdown",
     "checksum": "3bc4a632e3f51637f4c7ced78a812205",
     "grade": false,
     "grade_id": "cell-13f76c6a33972866",
     "locked": true,
     "schema_version": 3,
     "solution": false
    }
   },
   "source": [
    "Then, when we draw the root locus, we draw the root locus of a system with the \"open loop transfer function\" \n",
    "\n",
    "$$G(s)H(s)=C^\\star (s)P(s)H(s)$$\n",
    "\n",
    "where we vary the \"root locus gain\" $K=K_{sum}K_d$. **WE WANT** to place the zero $s=-z$ in a fixed location so that the root locus will pass through the desired eigenvalue location $s=s_d$. This is one of the advantages of using the \"summing gain\" $K_{sum}$. That is, varying $K_{sum}$ will allow us to change the root locus gain $K=K_{p}K_{sum}$ without changing the ratio of $\\frac{K_p}{K_d}$ (that is, without moving the controller zero).\n",
    "\n",
    "Before we learn to use the angle deficiency method to solve this problem, let's look once again at our example from the introduction, where we wanted to control a plant with:\n",
    "\n",
    "$$P(s) = \\frac{1}{(s+8)(s+12)}$$\n",
    "\n",
    "We will assume that $H(s)=1$ for algebraic simplicity, and we will look at the system's root locus under PD control with $C^\\star(s)=s+z$. \n",
    "\n",
    "Use the following interactive plot to experiment with how hitting your design target eigenvalue $s_d$ requires you to move the controller zero $-z$ around the s-plane. We plot $s_d$ as a \"trial point\" in the following figure, and as always, if this point is on the root locus, the total angle of the transfer function $G(s)H(s)$ evaluated at this point must be $\\pm 180 ^\\circ$."
   ]
  },
  {
   "cell_type": "code",
   "execution_count": 2,
   "metadata": {
    "ExecuteTime": {
     "end_time": "2017-10-23T00:30:30.243145Z",
     "start_time": "2017-10-23T00:30:27.758979Z"
    }
   },
   "outputs": [
    {
     "data": {
      "application/vnd.jupyter.widget-view+json": {
       "model_id": "a58f5063ae8745f8889f7459ffd1700e",
       "version_major": 2,
       "version_minor": 0
      },
      "text/plain": [
       "interactive(children=(FloatSlider(value=18.0, description='trialpt_wn', max=25.0, min=1.0, step=1.0), FloatSli…"
      ]
     },
     "metadata": {},
     "output_type": "display_data"
    },
    {
     "data": {
      "text/plain": [
       "<function __main__.updatePlot(trialpt_wn, trialpt_zeta, zero)>"
      ]
     },
     "execution_count": 2,
     "metadata": {},
     "output_type": "execute_result"
    }
   ],
   "source": [
    "from __future__ import print_function\n",
    "from ipywidgets import interact, interactive, fixed, interact_manual\n",
    "import ipywidgets as widgets\n",
    "\n",
    "from matplotlib.pyplot import *\n",
    "from matplotlib.patches import Arc,Arrow\n",
    "from scipy.signal import lti,step\n",
    "from numpy import *\n",
    "from numpy.lib import scimath\n",
    "from control import rlocus\n",
    "\n",
    "\n",
    "def updatePlot(trialpt_wn,trialpt_zeta,zero):\n",
    "    #two poles (fourth order system) \n",
    "    openloop_num = [1, -zero]\n",
    "    openloop_den = [1,20,96]\n",
    "    sys_openloop = lti(openloop_num,openloop_den)\n",
    "\n",
    "    \n",
    "    #now we want to get the eigenvalues of the open loop system and plot them on the s-plane\n",
    "    eigs_openloop = roots(openloop_den)\n",
    "    realparts_ol = real(eigs_openloop)\n",
    "    imagparts_ol = imag(eigs_openloop)\n",
    "    \n",
    "    #now we want to get the coordinates of the trial point so we can plot it\n",
    "    eig1_trialpt  = 0j+-trialpt_wn*trialpt_zeta + scimath.sqrt((2*trialpt_zeta*trialpt_wn)**2-4*(trialpt_wn)**2)/2\n",
    "    realparts_trial = real(eig1_trialpt)\n",
    "    imagparts_trial = imag(eig1_trialpt)\n",
    "    \n",
    "    #now calculate the angles of the vectors from each pole of GH to the trial point.\n",
    "    angle_p1t = arctan2(imagparts_trial-imagparts_ol[0],realparts_trial-realparts_ol[0])\n",
    "    angle_p2t = arctan2(imagparts_trial-imagparts_ol[1],realparts_trial-realparts_ol[1])\n",
    "    angle_z1t = arctan2(imagparts_trial,realparts_trial-zero)\n",
    "    \n",
    "    #now calculate the total angle of GH = sum(angles from zeros to trial point)-sum(angles from poles to trial point)\n",
    "    angle_GH_total = angle_z1t - angle_p1t -angle_p2t\n",
    "    \n",
    "    #now we plot the points\n",
    "    figure(figsize=(15,5))\n",
    "    subplot(1,2,1)\n",
    "    title('Root Locus For System and Trial Point at s='+str(real(realparts_trial))+'+'+str(imagparts_trial)+'j')\n",
    "    [rlist,klist]= rlocus(sys_openloop,kvect = linspace(0,250,1000),Plot=False)\n",
    "    plot(real(rlist[:,0]),imag(rlist[:,0]),real(rlist[:,1]),imag(rlist[:,1]))\n",
    "    plot(realparts_ol,imagparts_ol,'kx',ms=15,mew=3)\n",
    "    plot(zero,0,'ko',ms=15,mew=3,fillstyle='none')\n",
    "    plot(realparts_trial,imagparts_trial,'k.',ms=15,mew=2)\n",
    "    plot([realparts_ol[0], realparts_trial],[imagparts_ol[0],imagparts_trial],color='orange',linestyle='-.')\n",
    "    plot([realparts_ol[1], realparts_trial],[imagparts_ol[1],imagparts_trial],'b-.')\n",
    "    plot([zero, realparts_trial],[0,imagparts_trial],'g-.')\n",
    "    \n",
    "    \n",
    "    \n",
    "    xlabel('Real Part')\n",
    "    ylabel('Imaginary Part')\n",
    "    \n",
    "    axis('equal')\n",
    "    xlim([-50, 0])\n",
    "    xlabel('')\n",
    "    grid('on','both')\n",
    "    \n",
    "    #now plot the angles and their sum\n",
    "    ax2=subplot(1,2,2)\n",
    "    ax2.plot([0,cos(angle_p1t)],[0,sin(angle_p1t)],color='orange',linestyle='-.')\n",
    "    ax2.plot([0,cos(angle_p2t)],[0,sin(angle_p2t)],color='blue',linestyle='-.')\n",
    "    ax2.plot([0,cos(angle_z1t)],[0,sin(angle_z1t)],color='green',linestyle='-.')\n",
    "    ax2.plot([0,cos(angle_GH_total)],[0,sin(angle_GH_total)],color='black',linestyle='-',linewidth=3)\n",
    "    ax2.add_patch(Arrow(0,0,1,0,width=.05,edgecolor='black',facecolor='black'))\n",
    "    ax2.add_patch(Arc((0, 0), .25, .25, theta1=0.0, theta2=180/pi*angle_p1t, edgecolor='orange'))\n",
    "    ax2.add_patch(Arc((0, 0), .35, .35, theta1=0.0, theta2=180/pi*angle_p2t, edgecolor='blue'))\n",
    "    ax2.add_patch(Arc((0, 0), .35, .35, theta1=0.0, theta2=180/pi*angle_z1t, edgecolor='green'))\n",
    "\n",
    "    ax2.add_patch(Arc((0, 0), .65, .65, theta1=0.0, theta2=180/pi*angle_GH_total, edgecolor='black'))\n",
    "    title('Magnitude Criterion Check')\n",
    "    xlabel('Real axis')\n",
    "    ylabel('imaginary axis')\n",
    "    axis('equal')\n",
    "    legend(['angle from pole 1 to trial: '+\"{0:.2f}\".format(angle_p1t*180/pi)+' deg','angle from pole 2 to trial: '+\"{0:.2f}\".format(angle_p2t*180/pi)+' deg','angle from zero 1 to trial: '+\"{0:.2f}\".format(angle_z1t*180/pi)+' deg','Total angle of GH (0-sum(angles of poles -> trial))'])\n",
    "    \n",
    "    \n",
    "    show()\n",
    "    \n",
    "\n",
    "interact(updatePlot, trialpt_wn=widgets.FloatSlider(min=1,max=25,step=1,value=18),trialpt_zeta=widgets.FloatSlider(min=0.1,max=1,step=.01,value=.91),zero=widgets.FloatSlider(min=-50,max=-1,step=.1,value=-18))"
   ]
  },
  {
   "cell_type": "markdown",
   "metadata": {
    "deletable": false,
    "editable": false,
    "nbgrader": {
     "cell_type": "markdown",
     "checksum": "4e9778b6060a441e0089d006be538f54",
     "grade": false,
     "grade_id": "cell-6a9a1b86e854ed82",
     "locked": true,
     "schema_version": 3,
     "solution": false
    }
   },
   "source": [
    "**TEST THIS:** As long as our desired eigenvalue is to the left of $s=-10$, we can \"hit it\" with the root locus using PD control with proper zero placement. \n",
    "\n",
    "**TEST THIS:** Adding a controller zero to the left of $s=-12$ will cause the root locus to make a \"loop\" and *bend* to the left. The loop's diameter is controlled by the location of the controller zero at $s=-z = -\\frac{K_p}{K_d}$ (If you're interested in constructing this root locus for practice, try finding the break-in and break-away points!)\n",
    "\n",
    "If our desired eigenvalue $s_d$ has a real component of *exactly* $s=-10$, we could hit the point using plain old P control. If we did ask for a desired angle $s_d$ with a real component of $-10$, the angle deficiency $\\alpha$ of our system under proportional control would always be $0$, meaning that our point was on the root locus!"
   ]
  },
  {
   "cell_type": "markdown",
   "metadata": {
    "deletable": false,
    "editable": false,
    "nbgrader": {
     "cell_type": "markdown",
     "checksum": "7a45a5b1dfe33be8f76d7bd80730355d",
     "grade": false,
     "grade_id": "cell-f68d32dda92065d5",
     "locked": true,
     "schema_version": 3,
     "solution": false
    }
   },
   "source": [
    "### PD control design using Angle Deficiency\n",
    "\n",
    "While we could \"experimentally\" determine the controller zero location that would allow us to hit a desired point using a tool like the interactive plot above, it is actually much less work to use the angle deficiency $\\alpha$ to place our controller zero directly. Looking once again at our angle criterion equation,\n",
    "\n",
    "$$\\left.\\angle(G(s)H(s))\\right|_{s=s_d}=\\sum(\\angle zeros(G(s)H(s))\\rightarrow s_d) - \\sum(\\angle poles(G(s)H(s))\\rightarrow s_d)=\\pm 180^\\circ$$\n",
    "\n",
    "and noting that if when we don't achieve this we designate the \"angle deficiency\" as\n",
    "\n",
    "$$\\alpha = 180 - \\left.\\angle(G(s)H(s))\\right|_{s=s_d}$$\n",
    "\n",
    "It seems as if placing our controller zero at an angle $\\alpha$ will ensure that our system's root locus touches our desired point! Remember that our system transfer function under PD control is:\n",
    "\n",
    "$$G(s)H(s) = \\frac{s+z}{(s+8)(s+12)}$$\n",
    "\n",
    "Recall that it was simply $G(s)H(s) = \\frac{1}{(s+8)(s+12)}$ under P control. Our unknown zero location turns the angle criterion equation into:\n",
    "\n",
    "$$\\left.\\angle(G(s)H(s))\\right|_{s=s_d} = \\alpha_z -\\angle p_1 - \\angle p_2 = \\pm 180^\\circ$$\n",
    "\n",
    "Graphically, this scenario looks like this:\n"
   ]
  },
  {
   "cell_type": "markdown",
   "metadata": {
    "deletable": false,
    "editable": false,
    "nbgrader": {
     "cell_type": "markdown",
     "checksum": "dc480792c90428683999b4708a19e1ef",
     "grade": false,
     "grade_id": "cell-038ba5dff7c0c09a",
     "locked": true,
     "schema_version": 3,
     "solution": false
    }
   },
   "source": [
    "<img src=\"data:image/png;base64,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\" style=\"cursor:pointer;max-width:100%;\" onclick=\"(function(img){if(img.wnd!=null&&!img.wnd.closed){img.wnd.focus();}else{var r=function(evt){if(evt.data=='ready'&&evt.source==img.wnd){img.wnd.postMessage(decodeURIComponent(img.getAttribute('src')),'*');window.removeEventListener('message',r);}};window.addEventListener('message',r);img.wnd=window.open('https://www.draw.io/?client=1&lightbox=1&edit=_blank');}})(this);\"/>"
   ]
  },
  {
   "cell_type": "markdown",
   "metadata": {
    "deletable": false,
    "editable": false,
    "nbgrader": {
     "cell_type": "markdown",
     "checksum": "e5bb41233e1049cb74430f11233c7e8f",
     "grade": false,
     "grade_id": "cell-00bbf895e2eb1165",
     "locked": true,
     "schema_version": 3,
     "solution": false
    }
   },
   "source": [
    "To find the controller zero $-z$, we use the angle deficiency. This time, we force the angle deficiency to be zero by solving for the unknown angle $\\alpha_z$.\n",
    "\n",
    "$$\\left.\\angle(G(s)H(s))\\right|_{s=s_d}=\\alpha_z-\\angle p_1 - \\angle p_2 = \\alpha_z - \\tan^{-1}\\left(\\frac{12}{0}\\right) - \\tan^{-1}\\left(\\frac{12}{-4}\\right) = -180^\\circ$$\n",
    "\n",
    "Solving this gives $\\alpha=18.43^\\circ$. Then, looking at the triangle with sides $h$ and $d$ in the figure above, we can calculate that:\n",
    "\n",
    "$$d=\\frac{h}{\\tan\\alpha_z} = \\frac{12}{.333}\\approx 36$$\n",
    "\n",
    "This tells us that $-z=-12-d=-48\\frac{rad}{s}$. Because our controller transfer function is given by:\n",
    "\n",
    "$$C(s) = KC^\\star(s)=K(s+z) = K_{sum}K_d\\left(s+\\frac{K_p}{K_d}\\right)$$\n",
    "\n",
    "We can now say that $z = \\frac{K_p}{K_d}=48$. Unfortunately, we still have to calculate our actual control gains in order to implement our controller!\n",
    "\n",
    "Our next step toward this is using the magnitude criterion to say that:\n",
    "\n",
    "$$\\left| G(s)H(s)\\right|_{s=s_d} = \\left|\\frac{-1}{K}\\right|_{s=s_d}$$\n",
    "\n",
    "Substituting $s_d=-12+12j$ into the magnitude criterion equation gives us:\n",
    "\n",
    "$$\\begin{matrix} \\left| G(s)H(s)\\right|_{s=s_d} &=  \\left|\\frac{s_d+48}{(s_d+8)(s_d+12)}\\right| \\\\ &= \\left|\\frac{-12+12j+48}{(-12+12j+8)(-12+12j+12)}\\right| \\\\ &= \\left|\\frac{\\sqrt{36^2+12^2}}{\\sqrt{144^2+48^2}}\\right| \\\\ &= 0.25\\end{matrix}$$\n",
    "\n",
    "This tells us that $K=K_{sum}K_d=\\frac{1}{.25}=4$. But we have only two equations for our three unknowns $K_{sum},K_p,K_d$, so we must \"just pick\" one of the gains. It is common to choose $K_{sum}=1$, but if the control voltages output by your controller design are either too high for your hardware (motor amplifier, etc) or too low to be useful in the face of the noise expected in your system, you may have to modify your choice for $K_{sum}$. If we assume $K_{sum}=1$, we have enough to solve for $K_p$ and $K_d$. Namely, we obtain:\n",
    "\n",
    "$K_d = 4$, and $K_p = K_d*z = (4)(48) = 192$. This completes our controller design! The last step is to test our control design and predict its performance. We'll do this using Octave in the cells below. Make sure to run both. We will assume that we'd like a *unit* step to be the test case for this system. This won't be true for every system. "
   ]
  },
  {
   "cell_type": "code",
   "execution_count": 3,
   "metadata": {
    "ExecuteTime": {
     "end_time": "2017-10-23T01:25:46.610096Z",
     "start_time": "2017-10-23T01:25:45.675623Z"
    },
    "deletable": false,
    "editable": false,
    "nbgrader": {
     "cell_type": "code",
     "checksum": "0ba401df015e004679087b84c4f61d0c",
     "grade": false,
     "grade_id": "cell-277488c79967d3b4",
     "locked": true,
     "schema_version": 3,
     "solution": false
    }
   },
   "outputs": [
    {
     "name": "stdout",
     "output_type": "stream",
     "text": [
      "The oct2py.ipython extension is already loaded. To reload it, use:\n",
      "  %reload_ext oct2py.ipython\n"
     ]
    }
   ],
   "source": [
    "%load_ext oct2py.ipython"
   ]
  },
  {
   "cell_type": "code",
   "execution_count": 4,
   "metadata": {
    "ExecuteTime": {
     "end_time": "2017-10-23T03:11:18.651966Z",
     "start_time": "2017-10-23T03:11:16.765906Z"
    },
    "deletable": false,
    "editable": false,
    "nbgrader": {
     "cell_type": "code",
     "checksum": "3642d40d1c6ecd365b1ca8b1d0a5ceef",
     "grade": false,
     "grade_id": "cell-10362a18b19e9a40",
     "locked": true,
     "schema_version": 3,
     "solution": false
    }
   },
   "outputs": [
    {
     "data": {
      "text/plain": [
       "ans ="
      ]
     },
     "metadata": {},
     "output_type": "display_data"
    },
    {
     "data": {
      "text/plain": []
     },
     "metadata": {},
     "output_type": "display_data"
    },
    {
     "data": {
      "text/plain": [
       "  -12.0000 + 12.0000i"
      ]
     },
     "metadata": {},
     "output_type": "display_data"
    },
    {
     "data": {
      "text/plain": [
       "  -12.0000 - 12.0000i"
      ]
     },
     "metadata": {},
     "output_type": "display_data"
    },
    {
     "data": {
      "text/plain": [
       "  -12.0000 +  0.0000i"
      ]
     },
     "metadata": {},
     "output_type": "display_data"
    },
    {
     "data": {
      "text/plain": [
       "   -8.0000 +  0.0000i"
      ]
     },
     "metadata": {},
     "output_type": "display_data"
    },
    {
     "data": {
      "text/plain": []
     },
     "metadata": {},
     "output_type": "display_data"
    },
    {
     "data": {
      "image/png": "[encoded data removed]",
      "text/plain": [
       "<IPython.core.display.Image object>"
      ]
     },
     "metadata": {},
     "output_type": "display_data"
    },
    {
     "data": {
      "image/png": "[encoded data removed]",
      "text/plain": [
       "<IPython.core.display.Image object>"
      ]
     },
     "metadata": {},
     "output_type": "display_data"
    }
   ],
   "source": [
    "%%octave\n",
    "s = tf('s');\n",
    "H = 1;\n",
    "P = 1/((s+12)*(s+8));\n",
    "Ksum = 1;\n",
    "Kp = 192;\n",
    "Kd = 4;\n",
    "\n",
    "C = Ksum*(Kp+Kd*s);\n",
    "\n",
    "G_closedloop = C*P/(1+C*P*H);\n",
    "\n",
    "%check eigenvalues\n",
    "[num,den] = tfdata(G_closedloop,'v');\n",
    "roots(den)%these should include an eig at -12+12j\n",
    "\n",
    "%magnitude of our step input\n",
    "r_mag = 1;\n",
    "%simulate step response \n",
    "[y,t] = step(r_mag*G_closedloop);\n",
    "\n",
    "%calculate our error signal\n",
    "e = r_mag-y;\n",
    "%calculate error derivative\n",
    "dedt = [diff(e)./diff(t);0];%pad with a zero at the end\n",
    "%calculate control voltage from each piece (proportional, derivative)\n",
    "u_p = Ksum*Kp*e;\n",
    "u_d = Ksum*Kd*dedt;\n",
    "u_total = u_p+u_d;\n",
    "\n",
    "%plot our results\n",
    "figure()\n",
    "\n",
    "plot(t,y,'k')\n",
    "xlabel('Time (s)')\n",
    "ylabel('System Output y(t)')\n",
    "figure()\n",
    "plot(t,u_p,t,u_d,t,u_total)\n",
    "legend('proportional','derivative','total')\n",
    "xlabel('Time (s)')\n",
    "ylabel('control signal')"
   ]
  },
  {
   "cell_type": "markdown",
   "metadata": {
    "deletable": false,
    "editable": false,
    "nbgrader": {
     "cell_type": "markdown",
     "checksum": "9d8a5d294428f1fa685a30b59e839e3e",
     "grade": false,
     "grade_id": "cell-9f4b9feb49c3ed56",
     "locked": true,
     "schema_version": 3,
     "solution": false
    }
   },
   "source": [
    "For this design, we'd have to analyze whether:\n",
    "\n",
    "1. We were OK with a steady-state response of ~0.65 in response to a step request $r(s)$ of magnitude 1\n",
    "2. It was reasonable to expect our controller output to be $200$ units. If this was a voltage to a motor, for instance, it might be a little high. \n",
    "3. We are OK with the fact that this system **will not have zero steady-state error!** You can check this using the FVT on the closed loop transfer function $\\frac{y(s)}{r(s)}$.\n",
    "\n",
    "Nevertheless, this illustrates an entire loop through the angle deficiency design process for a PD controller. "
   ]
  },
  {
   "cell_type": "markdown",
   "metadata": {
    "deletable": false,
    "editable": false,
    "nbgrader": {
     "cell_type": "markdown",
     "checksum": "eb98c691f7a6c6bbf39c393812cfb704",
     "grade": false,
     "grade_id": "cell-14f454576752167c",
     "locked": true,
     "schema_version": 3,
     "solution": false
    }
   },
   "source": [
    "### Root locus of a system under PI control \n",
    "\n",
    "For the example we just worked, it was sufficient to use PD control to hit our design target. However,  what if the desired behavior we wanted meant achieving a pole to the *right* of the branches of our example system's root locus under proportional control? What if, for instance, we wanted a pole at $s_d=-8+8j$?\n",
    "\n",
    "Graphically, this would look like:"
   ]
  },
  {
   "cell_type": "markdown",
   "metadata": {
    "deletable": false,
    "editable": false,
    "nbgrader": {
     "cell_type": "markdown",
     "checksum": "cfafaed295e76751dc22e58d08031bdd",
     "grade": false,
     "grade_id": "cell-42d033d773154c1b",
     "locked": true,
     "schema_version": 3,
     "solution": false
    }
   },
   "source": [
    "<img src=\"data:image/png;base64,iVBORw0KGgoAAAANSUhEUgAAAVIAAAFTCAYAAABriYRKAAAACXBIWXMAAAsTAAALEwEAmpwYAAASA3pUWHRteEdyYXBoTW9kZWwAAJV5V6+kzJLtr+mn1m7hKR7x3ntejvBQeG9+/cDXc2bmSqOre6VdRSUJkUFGxFor2L9gujuLus1/b0s+k2Xer79g5hcEqcNdt238C+LQP8DvX9BHjdO6X4el+gVTv8V+zdvfz6nfuv07+A0C/wKhf2G/IOI3OY5t7ueJXK/vvTD+B8be22XBUZVfEP27rZv8N5+nzfBeTlfz0OXPlRj4B/gDgxj8BwSA33ZcxHP9XwYef37v+bzUQ//XO/wP+uefs3lWr8P89+RxHH+yOT7+1MM7tV5j/neiHIayfRaBfsHsL5jO6ric4+53nf2dxmIiI2Ic+cnjBPlBUxD/AZMc/kFwJM0yAiOw4p+1+rj7T4NGXOY/4I8h/rWJe18lXZeSM4BYyRbrUpQ2ykUEj8O7d9seaiHBblObvc604tU+AIk837dW64XYme0DMclg04shHdlA4WKcQeTlA3w+ZB5VBtGiRwgJaUh1WJsy3zMiXb+mHI1hTRM8LPTZJbJMUEa7bWpZNStdkCYICqqjUu5UZIa1BWRdlxWNDxxDx0YlmS1cZB7j8vjSrnrIP/AviGLz0rdRnHEIsZA+0l73aUYhursbIVr5o6M00jUeTcEvVXhJYb5wdEqja5x4Canp+ZycHYo3BMANuw+Q1X12ZOredhwpLBu1HKVJ8L2ITGhtw9qRvlx9ZhigrYBvggmcVZvrbYjcNhvoWEGV0YBhOVHTmI+whqkac4tlIOjUJvL3ed55r5t9pFSubi9CC2Rol4aNcGtca0o+YhLcwr2g9WJqBmjZIrwWghLvuwx4xY0qSeu20Tsae+XbzETB/RikI/d2T2IF8ZIu9G+/aNLo6XKltjBShrBcQs6VqpYD4Ne+RJfIZp7/XbeBV+kFdSkBdU5GncRtvnxDxbyKBpsSifKG4yhhcVU/sBdfrtMmUAk94ytcmav18DUVBp7F8WxauEkQ/Of3Waaj6pM+IbMwoE2pja9hA05gkpllBoAJRRPlLn/GcCZUZHQgslHIZMK9yeQ+Whlv8Cp+4ZgS8AoKAjEY1AlVYW984iuBaVuc+gh4hgXd3yF/ioQqbsNh3yIH0pNfIIwiE+J1KUlFDYA1hUi/Ek4c+DV71iAIB+GCfS98pyoAgM+beMYFFVsoiEvDUZyTnWo4yjTXJoOI6jXfQ8RKGlYmES4uysHoTaGVVduO9SBiKmNjWF06VA4HZmHhSPcxgo/N8PGrJ+SMW0UETRz9ORUkRo1FQPhMcebr9hJ1GzlkCoE05FYahUQrKKsMAhhsmToG4xBrB2ob5HPtbDPHuF85lPI4PcLHvKGHIuuN88z5LPbkiO9PVoc8Qx7kCHTw/KNRTojalnHwpvIqQTsBBsfqFHKmgG2zPHf6ZuyDThQmztq7hJlrgSpMXMVUJeEc2DAtMCzuC6a91dmUm7s/uPP8/E/o+T9x6L9x5ajX6l9x/4DV8hyyf935/A+U/RupIDTFYOITP0gFQD8QkOY/UAGgP0lewCD+QbIPnvwbkm4lnVTkH0h6XNRotnwOpyOdSPRVwSAKuEwmbH4kNTCrkFKw7ce/fbCYs2kqUZcO3aIyO+OPF5uSGcbYWScnELrhT4NSzIcrFsBvyC8TloVxwSZuSvSzBAf2TrQgn2XhXSZZbCoUGTO/xiLN6/j7Bu+F9bPosDcAAlcECUTGnLYQbvBMVAwCR1bLwwXSM0lGSdVJZscG2JuIyG+lrn2bAlf1QQhpMbbHBILk/W1WOnYbVUZiEq/hxZJLJdJlgs6FfF9zSJPLj3Gq2mlBC/ZaUU+jEn0X1wCC6jQBf/KEEy7xzXz1iI/1EkILOoxFBBoDVLciPNXndhdOhO62FGR8UM7NTnesaOx2IUjcb5E4rZv8wN1Ny2+x9XguPdaKpDL25d3YI4ORu5RXok2eRPFrG8gz/UTo73Y2cKxcX79QaGdqtk2VoDxtFcolWiTueHZtN8gKgZA5oGa2FohCNfCmD+Z0bSEuB1Whv7MwfrPFxPfZIWDI0J915YuuoWjUiTsgXh498xtCk6B9nAPWgFxs9P5m/ER8ZUCKSNuuaTKuMO3MIDiPXdHc2JZqnG6mLuMlchYIcqIKzcaU2OaNsiI83/d1ADexg8h37fprvwJM+DAP2HD884Fo3sLfi0ap/t6lZVua+fAod4hud2W93j8Dasvfy59U4Hzf7p/DGOfv+amPemncUBmWHLP2i0rRnn3lrgT2hQTmwkoaZNs2q9gabIvvP51QA9s0RamHnBXt4rexJt0cLBxfFjA+BGR87GRXNqSaSxYo3aKBCkhvRkCTviBxbdq3MvgRuL532xGboWhYgk9bC9kfxAC8sOJ2iZqZfFuWmoNXBZPhW1BxulGKY7RG2NGGNbm5S2dgoW+/2oKn55K57ptZPHHkiUaitAy4z4ZQHQLd5w1stEIlKQOAB3aITjj1OO3VB09/Q4pJ+BC66/2JFjc0TDgCtBiBkMO5rfbWGBzukAMusQh2cWv44lVOZBO2Ja/voMVaw5ljCptylH2V34vbO4eMB5F9cpjrIyCwfT8LLE+YqSB6WDvg+dBoqEyFH24EwVFArM4aoA6gnDK2Q5LxbG72eijTHe6BMyrCmT1xEPxBJk4+ZxIh9dwXYZuv2oRO01Bh8icKNk71eXrEIC3gBTQgS4jfNCMe7M5S/aJrNeCIHkLlD3WPjRvm901P4gj5vfrUDWXY6EkFAosaHdt6UlLipykoR8Eu+OyyiMB9YzOgQ5N3wkYq+DgsPtXDZORhgCSRq7IN6N+qZujBKlp90PHjuqVATPgTC7WZShVUVGNfDFmguD7Q2vr8pp1q7WJg6QCxsRA8MlBwFT1P+IHtkxIFa6HtY2If1+JM7sp47IzgfBng1a6w1PSAkoSUKYlNoZT4UZw2DcbD1EEEs61difoHWImAXjoNUmR9+49o46rMNwNKmjm/lVHI2oW1HvxidwfCgEEmctn8tC+XBk9HDJnZxubuWTE3KVIOpTLCxc/wFBeRPjqJWle9t66Rdx8g0r9+WV6IJwKMf0X6lZIBZqhDYmdDdBxOtcTNqU9mm2+McRrLXbohp10GjpXst9odo/Csl4cljJA+rXMDOLFyQdAi0YuPgXmkqx0N15w+zmQUWUvsyZCC/N36hxK+akODntwYLCn0z+I6VEsVC7Al8GwJYK1G8+JwFr97Rzgej6JpOiLlVhc8EiMANk1AMaWkIQg9z0DL+CE1VKoE8PrgPbeXVLuhDpdTwgsG9PcDJEDheQUBptlLBfj3xToE++oDLkteD2QHkuT4spOyr0koUyIriSh2xQYuzc+OHfn264foPd9Ws4b+tHto/EkZDluNFaEvJoygwcBlI8z9sLzTqTMX7R9cL9dz6YrQqqF6Ua+MiEiNHjly6Gn8/qgUiX4zioAbvWYAW7AyIau5/YW6wppaZ9zf59csa1aQykAZt6XGIkCgTR28j5cS0CekjfmiktCJb7xOR8MkOdSNt9EX66Y+pOXFZOxLd24wv0maUsqMC8erEt6//z+p8T8VRk6AaFak2U+Bx8QPRBDpT4al6Q9M4CiGxDGcv7rvr8IYpRRdDs5AQEFfKXZbzjSHIWDsdVRjmvbRvgqlLYFKJQUMcGZ90BISkuuqHs1ZEqNaPHxO4diDHKp0e7mQnEKeMwTdHabd8qoBPdNcbrafluYDzAI8ndcqlZSqsrL0XVqrsr3PUKdJEPOJZU8qa+Pgfrp8sdePiXsL80piVG5z79U2I4zMY+EKE81VemTxdLIkvR82FwlCSj6fNWoYNKB+0xLT/Zw6qmRJFbKFhWMd2H3vI2oqFdGjOt41sof9qITTZ3zr4QbXZ3lVUsLQLQUL90jfol4BGmfA0yzqcJufGId6RYDhfCrmXJfRfZ3j6HD6oJJnsjkJL5HEKZiZ+7iot5djLmXWAeg/vQlpSpMLGUb1DFw8IK9n55ByqYqA75XcofcKktheRDC3Mg9WRy1V9OxY/PapGPBMt1l33Dmd8i3ChojQMSgjWEnVm08mHrVEOEdVGiyPuqosWFtrgMGOsLurlPQhunXp/Vw+4DZXtoVaihVfFNsyQ02ymGiL++MRFebOGgAPoTT6UorpiWP/lBMl2J72AXavVZQE20+DqHPInic8904tAVAv5UaWfEUSts0zrr22mqQYHtCl2v68JJknR1pUWDWotFkS92mK8Qw1I7LCJiPLmq8DRHwZwC9HLuREGWR5iiTDw/IXPp+6uu2VOyjuZeCnHqgFiYNbPqYRrDcl1V4lIkxdB530/DEVViaYMX869As94nlSy1TxEvDBpMgfe3RBI7Djt2ZZ3m6Ep3oW0UGN2jWWq+qcycMoIZ/G8dSd9VaX77dg7RaenkXFFJDvfHR7+zO/fUuGLafUYESc3qvZSo3O8e/LCuqVvuGl+mXlgmXJ3WoW2Ipb7ULQhrr5aHrKFGJdmZa8zzMB8fS18sK7gMDOeHYNzPA96zZ4uyWmRQOxjr6vmqdSPxzS5pZZRZacgvvuqBDojdWvtYR+0h6rrj1wh43exBtl02kl7JqBZ5ucTWwX5Nty0++aV9qurVDwFBETV8HrrPatd0JFU70P2Jf+HJlLfbCJ1L4B4vGV+GGhDKvjhy17CAbWHnWI5Z/lvGogEDw+Fbt43GR5olnOTCRqEs11YjlG4ee3uS937G0trR4K0rXH0s+rmT6W+FrmGISLPmUdrEQx3daWA+wLdaNelw85Ud4UrUDZn3GoV7l8pTx42jXfpIpckEtR0AJKfKeyjLqav9OqIWQEPGLyUTv8Q5iV683Kq0SNyP4ez1GEKeh8xai/SKtRCv9PuEoP4/V7KH7/fUX0P6EVwNIkTYDPz6cAoR+8ANEfKEmAHxBOEBBJUYKIif96nxTN61KyT/Nm4MnVbe75NumrPXnitPofDzzxBKNkh1z7DTxzFbe+ApTj2tDGZ0uafFSe912dpsJ/ABg+q1h64JAaTta8cA+taxlb5+tEkwl6tX3lOGz3yMxHl0qcyKQqLTmkwpoC896k0CDiWJEXIT6GBOgbGx2zc/1qaSp5478EB9tPDsnv4iN9rbo156LrnrVWn0xBK8UNh4qVyKKkBT1TJWDokW1bdQ2oGoNQJ6zqI37SqZHpXEwrNIRRUjwXn9DP6BTLB5VDw/Ss0TLbpThx4xqtZUonpTnv1FR3rAn0GarfCjKWR7FmdaG4MaIOZWgkWTw09tOE3g1/zNF1zbVe7p74faXLzJc0TXlQhJyCC0+p5CVvA6ovwXXGL/fIiTFyvQy/XeYVhNHTZLbXxR7Tol9IS+5umHYFwJ4ckkLxUyldIZv+py+NtDkoVwIYrZog+sMZry1dTOkg/JBFuVB6Y7qiWluLKlcfKB8zvkMOXOqw2pkIsBiVN1gvryce8QVtNBSluPxIYO+L1HK4MphXMb27p9y5QAmHfuiKcXMhX7CcwlKFWpAeHjigcCsheCPJuXxCiYe1+LnJSEZCyqBs37KB2TKrMRupRfg8fBiGPlZgpG9CtFf/5BultNpLVHJ6+jAfv/SjfoRXeSzqcYHBq0Ydy7WwvMvG4fMlbw3pAZgvBsHTGSzRa6I6AAvpnqb2g0iPi33f31u6udeUvfQskx+axbEHKDmCe/GRhPawAO6cJcWgJx+lLNb7QJmj4/A84DsX/BD/i/fz244TGE0+AZjfHnPLdySpP8O+QoRKtGMYaXfl6OhX4N9Yf48STvLxxkf9DcZ+H/sI9FRY9wpanzCXG/0aJOyWtcxrTch7frOyzfcMeqRM5vs+s2nfKAX4fEWM825UVXx49Xh4khlUlJSZra6uTcfKqzm11FmrdamS23SKlpKkD2Q1Gni+8u+jo9lbydBuH8TLQW87l2/pkQdw9qruJBq8Df5Ie9oW/xfA+TeoEDgOZSgS/2R4Dv6gSYH8FCCA/gAEWsBJhsXAB/hf3l0jf4HGvT3onsBDAYblMhjNAXrNddxLVlHRUZvde+bfsVpS9cBRcdEgsqWSpjjSiS/J1DCJpeoAoM40p3R6nO9JddpHmBugo9CasNmBSFTOKsWpjMSoH/drOCowPm3SmXkhlL2vgpTbvugFJucepC5TvzWn4eCyagyf5SPI9cectkLNJBM6oUlBcmg1MNn/XeU+47//zHiG/wG/6fGGAAAOQElEQVR4nO3df6zddX3H8dehP+7tvQ0/Zumi+6Mmji4hmmgCM9bOja0pRGOikczQOYMElLVJWdGYsZjASiYtGjuBLuOnjik6CogBcbQV1BkcG4lOE7NhBBuZps0NW4iU23tDv/vj9Ce1cHvf99zvOfc+Hkm595x77pc33JNnP+d8vufcTtM0TQCYttPaHgBg0AkpQJGQAhQJKUCRkAIUCSlAkZACFAkpQJGQ0rcmJydz6aWXZnJysu1R4FUJKX1r27Zt2bFjRz73uc+1PQq8qo6XiNKvlixZkvHx8QwNDWV8fLztceCkrEjpSzfeeGMWLFiQJFm4cGG2bt3a8kRwclak9KXDq9HDrErpZ1ak9J1jV6NWpQwCK1L6zvDwcBYtWpSRkZHs27cvy5cvz/79+zMxMZEDBw60PR6cwIqUvrJ79+6MjIzklltuyd69e5Mke/fuzS233JLR0dHs2rWr5QnhRFak9LVOpxN3UfqdFWkf6NzWSee2TttjANMkpABFQgpQJKQARUIKUCSkAEVCClAkpABFQgpQJKQARUIKUCSkAEVCClAkpABFQgpQJKQARUIKUCSkAEVCClAkpABFQgpQJKQARUIKUCSkAEVCClAkpABFQgpQJKQARUIKUCSkAEVCClAkpABFQgpQJKQARUIKUCSkAEVCClAkpABFQgpQJKQARUIKUCSkAEVCClAkpABFQgpQtLDtAagYTx78x+Th7yT7z0r+cFWydDR57/uS09ueDeYPIR1Y48m1H0q+8fPkzz+Z/O7/Jtf9XZLXJRe+r+3hYF4R0kH1wr8lj+xJOiuTq/60e93Kpcm6f2p3LpiHPEc6qCYOf/J8suun3U/PeW+y4rdO/j1je5KfjvV6Mph3hHRQLfud7sdmLLnmkuTyTyc/TXLfPcmyV9x2/CfJuouSiz6QfOkHsz0pzHlCOrDOST7/F0mn0734wweSS/44+eyuE286fG7y2Y93bzu0aHbHhHlASAfZqsuSr38+eesxS9CvXpN8/onjbzee7m5+kqxaOWvjwXwhpIPqhW8nF386ecOq5I5/SW7adHR1+s1DIf3hl5Pzz08+dHHyJ1clTdPauDCXCekg2/O1ZM+hz1f9WXL75YcuTCR7Hkwu35Zcd09y333J319+sqMARUI66D72V8nhjfinn+1+fOu5yZf/IemsSd5zTve633vL0RUrMKOcRzroxnYnF5139PKa9cmW308u+ttkxeuPueHECd8KzAwhHVSn/1Hyr/+RDI8nv9ybTCYZ/e1k2XCS8eRNSf79ye5G03CSLO5+3+LFLQ0Mc5eH9oNs+NA/3rAiWbHiUEQPXffudyfN08nHb+3G9MknuptN992fjI23NzPMQVakc9V7Pp785/8kD9yerL796PUHfpk8+3yy7A3tzQZzTKdpnBPTts5t3U2g5qM9+FG8MJZMLE6WnX7Mw/zB0el04i5Kv7MinetOP+Zk/QGLKAwKz5ECFAkpQJGQAhQJKUCRkAIUCSlAkZACFAkpQJGQAhR5ZdNcc9NNyeOPJwcPJqedllxwQbJxY9tTwZzmtfZ9YEZeaz85maxZ0/04ccx7jy5e3P2ze3eycPD+3vRaewaBh/ZzxZo1yYsvHh/RpHv517/ufh3oCSGdC266qbsSfTUTE8nNN8/OPDDPCOlc8PjjJ65EX2liInnssdmZB+YZIZ0LDh6c2u081wg9IaRzwWlT/DH6LaLQE0I6F1xwwWv/UrvFi204QY8I6VywceNrh3RoKNmwYXbmgXlGSOeK3buTpUu7wTzWseeRAj3hhPw+MKO//O7mm7u7803TfU50zZpkyZJkfDxZv75+/FnmhHwGgZD2gZ7+FtHD1q1LrrsuWbmyd/+OHhBSBsHgvWaQ6bnnnrYngDnLc6QARUIKUCSk883Pf55cfHHbU8CcIqTzzRvfmFx4YXLrrW1PAnOGkM5HV1yRfOtbyTPPtD0JzAl27eere+9tewKYM6xIAYqEFKBISOe7n/0s+eAH254CBpqQzndvelP3bfjuuKPtSWBgCSnJlVcm3/xmsmdP25PAQLJrT9f997c9AQwsK1KAIiEFKBJSjvf00933LgWmTEg53sqVyTvfmXzhC21PAgNDSDnRhg3J17+ePPdc25PAQLBrz2/24INtTwADw4oUoEhIAYqElFf3k58kH/5w21NAXxNSXt255ybnnZfcfXfbk0DfElJe28aNyY4dya9+1fYk0Jfs2jM1Dz3U9gTQt6xIAYqEFKBISDk1P/5x8pGPtD0F9BUh5dS85S3dP/fc0/Yk0DeElFN39dXJl76U7NvX9iTQF+zaMz2PPNL2BNA3rEgBioQUoEhIqfnBD5Irrmh7CmiVkFLztrcl55yT3Htv25NAa4SUuk9+MrnjjuT559ueBFph156ZsXNn2xNAa6xIAYqEFKBISJlZTz2VXHll21PArBJSZtZ55yUrViT339/2JDBrhJSZd801yfbtyQsvtD0JzAq79vTGY4+1PQHMGitSgCIhBSgSUnrrySeTDRvangJ6Skjprbe/PXn965MHH2x7EugZIaX3PvWpZNu25MUX254EesKuPbPjO99pewLoGStSgCIhBSgSUmbXE08kGze2PQXMKCFldq1albzudclDD7U9CcyYTtM0TdtDzHed2zpJkuaj8+hHsXp1snt3Mjz8qjfrdDpxF6Xf2bWnHd/7XtsTwIzx0B6gSEgBioSUdn33u8nVV7c9BZQIKe1617uSpUuTRx5pexKYNrv2fWBe7tq/0jve0V2dLlp03NV27RkEdu3pD9//ftsTwLR5aD8Fz37t6nQ6nXQ6nfz115498QbPfSMXHvr6H/zN7L85R7/PB3NewxT8orlhbZokTbK2eXjfsV/bd8zXLmme+L9TP3puTZNbKz+K3s7XJndRBoF76VTte7hZnUNBWrutOdyqp7ZfcihSabZNs1L1kPZ2vln12GNN84lPHLkopAyC8kP73bt3Vw8xGM5+T77y8DXdz3duylV3/nfy3D/nAxu+kiRZe8O385fvOMN8VRdc0N1w2rmz7UmYB3bt2jUzB5pugbdu3doMDQ01Z5111kyGve89sOnNR1Z4R/6svqHZ99rfelIzsiLt4XytOP/8pnn5ZStSeuqMM85ohoeHm8985jOl45zyvXTr1q3N8PBwMzo62ixdurT54he/WBpg8PxXs+nNx4bq/a94TvLUzWRIezFfm4SUXrrzzjubpUuXNiMjI82SJUumHdQpnUc6OTmZbdu25dprr82CBQvy4qHfvbN8+fLs3bt3ZpbGA2TX1W/M2m17uhfWbk/z6PqT3vbwOaIzZSrnmp7KfP3OeaT02tlnn52xsbEkycjISJqmyebNm3PVVVdl0SvOaz6ZKYX00ksvzY4dO7J///4j1y1YsCAvv/zyNEefR26d4eN9bIaPB5zQs5GRkaxbty6333771A4wlWXrxMREs2XLlmZoaKgZHR098rBx+fLl01oGD64fNZcd+m9fcckNzfZNqw/9v1jdPPyL6R915h7a92a+Nk3xLgrTtmzZsiNNGx0dbYaHh5sbb7yxOXDgwJSPccr30mODOt+eI/3q+sMbOWubnfuapmmeai45csrR9Dd0ZiqkvZqvTUJKLx1+jvTYgE7HtO+lW7ZsaRYvXjxvdu2feWDTkb+1Nj3wzJHr9337hiPXv3/7E9M69kyEtJfztUlI6aUzzjijGRoamnZADyvfS3fu3Fk9RP/7xdGT3Vdcdnfz0iu+fPSUoxXNHT869ZPeyyHt8XxtElJ66dFHH52R47iXTsHdl63ohmjFSV5i+dJTzWUrjr6q6FRTVQ1pr+drk5AyCLyNXh/wNnon5/QnBoF3fwIoElKAIiEFKBJSgCIhBSgSUoAiIQUoElKAIiEFKBJSgCIhBSgSUoAiIQUoElKAIiEFKBJSgCIhBSgSUoAiIQUoElKAIiEFKBJSgCIhBSgSUoAiIQUoElKAIiEFKBJSgCIhBSgSUoAiIQUoElKAIiEFKBJSgCIhBSgSUoAiIQUoElKAIiEFKBJSgCIhBSgSUoAiIQUoElKAIiEFKBJSgCIhBSgSUoAiIQUoElKAIiEFKBJSgCIhBSgSUoAiIQUoElKAIiEFKBJSgCIhBSgSUoAiIQUoElKAIiEFKBJSgCIhBSgSUoAiIQUoElKAIiEFKBJSgCIhBSgSUoAiIQUoElKAIiEFKBJSgCIhBSgSUoAiIQUoElKAIiEFKBJSgCIhBSgSUoAiIQUoElKAIiEFKBJSgCIhBSgSUoAiIQUoElKAIiEFKBJSgCIhBSgSUoAiIQUoElKAIiEFKBJSgCIhBSgSUoAiIQUoElKAIiEFKBJSgCIhBSgSUoAiIQUoElKAIiEFKBJSgCIhBSgSUoAiIQUoElKAIiEFKBJSgCIhBSgSUoAiIQUoElKAIiEFKBJSgCIhBSgSUoAiIQUoElKAIiEFKBJSgCIhBSgSUoAiIQUo6jRN07Q9BJxMp9OJuyj9zooUoEhIAYqEFKBISAGKhBSgSEgBioQUoEhIAYqEFKBISAGKhBSgSEjpK7t27cqZZ56Zu+6667jr77rrrpx55pnZuXNnS5PByXnTEvrOkiVLsnDhwgwPD2dsbCzLli3L+Ph4JicnMz4+3vZ4cAIrUvrO9ddfn4MHD2ZsbCwLFizI2NhYmqbJ9ddf3/Zo8BtZkdKXRkZG8tJLLx25PDw8fNxl6CdWpPSlzZs3Z2RkJEkyOjqazZs3tzwRnJwVKX3r8KrUapR+Z0VK39q8eXOWLFliNUrfsyKlb01OTmb9+vXZvn17Fi9e3PY4cFJCClDkoT1AkZACFAkpQJGQAhQJKUCRkAIUCSlAkZACFAkpQJGQAhT9P0p09kznbTerAAAAAElFTkSuQmCC\" style=\"cursor:pointer;max-width:100%;\" onclick=\"(function(img){if(img.wnd!=null&&!img.wnd.closed){img.wnd.focus();}else{var r=function(evt){if(evt.data=='ready'&&evt.source==img.wnd){img.wnd.postMessage(decodeURIComponent(img.getAttribute('src')),'*');window.removeEventListener('message',r);}};window.addEventListener('message',r);img.wnd=window.open('https://www.draw.io/?client=1&lightbox=1&edit=_blank');}})(this);\"/>"
   ]
  },
  {
   "cell_type": "markdown",
   "metadata": {
    "deletable": false,
    "editable": false,
    "nbgrader": {
     "cell_type": "markdown",
     "checksum": "56f0957d07b013a514d5baad889b967b",
     "grade": false,
     "grade_id": "cell-4d17c067c61e78a6",
     "locked": true,
     "schema_version": 3,
     "solution": false
    }
   },
   "source": [
    "The angle deficiency for the system under proportional control is:\n",
    "\n",
    "$$\\alpha = 180^\\circ - \\left.\\angle(G(s)H(s))\\right|_{s=s_d} = 180^\\circ - (0 - \\tan^{-1}\\frac{8}{0} -\\tan^{-1} \\frac{8}{4}) = 345.96^\\circ = -14.04^\\circ$$\n",
    "\n"
   ]
  },
  {
   "cell_type": "markdown",
   "metadata": {
    "deletable": false,
    "editable": false,
    "nbgrader": {
     "cell_type": "markdown",
     "checksum": "4a5102a11daa2a5020f6551223e42804",
     "grade": false,
     "grade_id": "cell-5f8563c776266906",
     "locked": true,
     "schema_version": 3,
     "solution": false
    }
   },
   "source": [
    "Because the angle deficiency is negative (the target eigenvalue is to the left of the P-control branch), the rules suggest that we should try PI control. \n",
    "\n",
    "Let's use a PI controller with a summing gain:\n",
    "\n",
    "$$C(s) = K_{sum}\\left(K_p+\\frac{K_i}{s}\\right)=K_{sum}\\frac{K_ps+K_i}{s}$$\n",
    "\n",
    "We can factor K_p out of this controller as follows:\n",
    "\n",
    "$$C(s) = K_{sum}K_p\\frac{s+\\frac{K_i}{K_p}}{s}=K\\frac{s+z}{s} = KC^\\star(s)$$\n",
    "\n",
    "Which means we can cast our control problem as the following, root-locus-friendly block diagram:"
   ]
  },
  {
   "cell_type": "markdown",
   "metadata": {
    "deletable": false,
    "editable": false,
    "nbgrader": {
     "cell_type": "markdown",
     "checksum": "767fe64a2f742c9d8227b6cef7f689d4",
     "grade": false,
     "grade_id": "cell-f3d437ba991b6b05",
     "locked": true,
     "schema_version": 3,
     "solution": false
    }
   },
   "source": [
    "<img src=\"data:image/png;base64,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\" style=\"cursor:pointer;max-width:100%;\" onclick=\"(function(img){if(img.wnd!=null&&!img.wnd.closed){img.wnd.focus();}else{var r=function(evt){if(evt.data=='ready'&&evt.source==img.wnd){img.wnd.postMessage(decodeURIComponent(img.getAttribute('src')),'*');window.removeEventListener('message',r);}};window.addEventListener('message',r);img.wnd=window.open('https://www.draw.io/?client=1&lightbox=1&edit=_blank');}})(this);\"/>"
   ]
  },
  {
   "cell_type": "markdown",
   "metadata": {
    "deletable": false,
    "editable": false,
    "nbgrader": {
     "cell_type": "markdown",
     "checksum": "2e633b08cadf90bec4029ce96cfd2ef1",
     "grade": false,
     "grade_id": "cell-1a62a846dcac7ff7",
     "locked": true,
     "schema_version": 3,
     "solution": false
    }
   },
   "source": [
    "Note that this time the controller adds both a zero and a new pole to the forward path transfer function of the control system. By setting the ratio of $K_i$ and $K_p$, we can specify the location of the forward path transfer function's zero at $s=-z=-\\frac{K_i}{K_p}$. Because the controller adds a new pole at the origin to the open-loop transfer function $G(s)H(s) = C^\\star (s)P(s)H(s)$, we also change the shape of the root locus! See the interactive plot below, which allows you to place the PI controller's zero to  \"experimentally\" hit a desired point $s=s_d$ on the root locus."
   ]
  },
  {
   "cell_type": "code",
   "execution_count": 5,
   "metadata": {
    "ExecuteTime": {
     "end_time": "2017-10-23T02:52:38.776251Z",
     "start_time": "2017-10-23T02:52:36.482053Z"
    },
    "deletable": false,
    "editable": false,
    "nbgrader": {
     "cell_type": "code",
     "checksum": "8c21e438fe7b53acabad1bfb3180c05d",
     "grade": false,
     "grade_id": "cell-2286c35693c14d0a",
     "locked": true,
     "schema_version": 3,
     "solution": false,
     "task": false
    }
   },
   "outputs": [
    {
     "data": {
      "application/vnd.jupyter.widget-view+json": {
       "model_id": "2ee549be3e31476e91b8495d8f333ffd",
       "version_major": 2,
       "version_minor": 0
      },
      "text/plain": [
       "interactive(children=(FloatSlider(value=10.0, description='trialpt_wn', max=25.0, min=1.0, step=1.0), FloatSli…"
      ]
     },
     "metadata": {},
     "output_type": "display_data"
    },
    {
     "data": {
      "text/plain": [
       "<function __main__.updatePlot(trialpt_wn, trialpt_zeta, zero)>"
      ]
     },
     "execution_count": 5,
     "metadata": {},
     "output_type": "execute_result"
    }
   ],
   "source": [
    "from __future__ import print_function\n",
    "from ipywidgets import interact, interactive, fixed, interact_manual\n",
    "import ipywidgets as widgets\n",
    "\n",
    "from matplotlib.pyplot import *\n",
    "from matplotlib.patches import Arc,Arrow\n",
    "from scipy.signal import lti,step\n",
    "from numpy import *\n",
    "from numpy.lib import scimath\n",
    "from control import rlocus\n",
    "\n",
    "\n",
    "def updatePlot(trialpt_wn,trialpt_zeta,zero):\n",
    "    #two poles (fourth order system) \n",
    "    openloop_num = [1, -zero]\n",
    "    openloop_den = [1,20,96, 0]\n",
    "    sys_openloop = lti(openloop_num,openloop_den)\n",
    "\n",
    "    \n",
    "    #now we want to get the eigenvalues of the open loop system and plot them on the s-plane\n",
    "    eigs_openloop = roots(openloop_den)\n",
    "    realparts_ol = real(eigs_openloop)\n",
    "    imagparts_ol = imag(eigs_openloop)\n",
    "    \n",
    "    #now we want to get the coordinates of the trial point so we can plot it\n",
    "    eig1_trialpt  = 0j+-trialpt_wn*trialpt_zeta + scimath.sqrt((2*trialpt_zeta*trialpt_wn)**2-4*(trialpt_wn)**2)/2\n",
    "    realparts_trial = real(eig1_trialpt)\n",
    "    imagparts_trial = imag(eig1_trialpt)\n",
    "    \n",
    "    #now calculate the angles of the vectors from each pole of GH to the trial point.\n",
    "    angle_p1t = arctan2(imagparts_trial-imagparts_ol[0],realparts_trial-realparts_ol[0])\n",
    "    angle_p2t = arctan2(imagparts_trial-imagparts_ol[1],realparts_trial-realparts_ol[1])\n",
    "    angle_p3t = arctan2(imagparts_trial-imagparts_ol[2],realparts_trial-realparts_ol[2])\n",
    "    angle_z1t = arctan2(imagparts_trial,realparts_trial-zero)\n",
    "    \n",
    "    #now calculate the total angle of GH = sum(angles from zeros to trial point)-sum(angles from poles to trial point)\n",
    "    angle_GH_total = angle_z1t - angle_p1t -angle_p2t - angle_p3t\n",
    "    \n",
    "    #now we plot the points\n",
    "    figure(figsize=(15,5))\n",
    "    subplot(1,2,1)\n",
    "    title('Root Locus For System and Trial Point at s='+str(real(realparts_trial))+'+'+str(imagparts_trial)+'j')\n",
    "    [rlist,klist]= rlocus(sys_openloop,kvect = linspace(0,500,1000),Plot=False)\n",
    "    plot(real(rlist[:,0]),imag(rlist[:,0]),real(rlist[:,1]),imag(rlist[:,1]),real(rlist[:,2]),imag(rlist[:,2]))\n",
    "    plot(realparts_ol,imagparts_ol,'kx',ms=15,mew=3)\n",
    "    plot(zero,0,'ko',ms=15,mew=3,fillstyle='none')\n",
    "    plot(realparts_trial,imagparts_trial,'k.',ms=15,mew=2)\n",
    "    plot([realparts_ol[0], realparts_trial],[imagparts_ol[0],imagparts_trial],color='blue',linestyle='-.')\n",
    "    plot([realparts_ol[1], realparts_trial],[imagparts_ol[1],imagparts_trial],color='orange',linestyle='-.')\n",
    "    plot([realparts_ol[2], realparts_trial],[imagparts_ol[2],imagparts_trial],'g-.')\n",
    "    plot([zero, realparts_trial],[0,imagparts_trial],'r-.')\n",
    "    \n",
    "    \n",
    "    \n",
    "    xlabel('Real Part')\n",
    "    ylabel('Imaginary Part')\n",
    "    \n",
    "    axis('equal')\n",
    "    xlim([-20, 0])\n",
    "    ylim([-15,15])\n",
    "    xlabel('')\n",
    "    grid('on','both')\n",
    "    \n",
    "    #now plot the angles and their sum\n",
    "    ax2=subplot(1,2,2)\n",
    "    ax2.plot([0,cos(angle_p1t)],[0,sin(angle_p1t)],color='blue',linestyle='-.')\n",
    "    ax2.plot([0,cos(angle_p2t)],[0,sin(angle_p2t)],color='orange',linestyle='-.')\n",
    "    ax2.plot([0,cos(angle_p3t)],[0,sin(angle_p3t)],color='green',linestyle='-.')\n",
    "    ax2.plot([0,cos(angle_z1t)],[0,sin(angle_z1t)],color='red',linestyle='-.')\n",
    "    ax2.plot([0,cos(angle_GH_total)],[0,sin(angle_GH_total)],color='black',linestyle='-',linewidth=3)\n",
    "    ax2.add_patch(Arrow(0,0,1,0,width=.05,edgecolor='black',facecolor='black'))\n",
    "    ax2.add_patch(Arc((0, 0), .25, .25, theta1=0.0, theta2=180/pi*angle_p1t, edgecolor='blue'))\n",
    "    ax2.add_patch(Arc((0, 0), .35, .35, theta1=0.0, theta2=180/pi*angle_p2t, edgecolor='orange'))\n",
    "    ax2.add_patch(Arc((0, 0), .35, .35, theta1=0.0, theta2=180/pi*angle_p3t, edgecolor='green'))\n",
    "    ax2.add_patch(Arc((0, 0), .35, .35, theta1=0.0, theta2=180/pi*angle_z1t, edgecolor='red'))\n",
    "\n",
    "    ax2.add_patch(Arc((0, 0), .65, .65, theta1=0.0, theta2=180/pi*angle_GH_total, edgecolor='black'))\n",
    "    title('Magnitude Criterion Check')\n",
    "    xlabel('Real axis')\n",
    "    ylabel('imaginary axis')\n",
    "    axis('equal')\n",
    "    legend(['angle from pole 1 to trial: '+\"{0:.2f}\".format(angle_p1t*180/pi)+' deg','angle from pole 2 to trial: '+\"{0:.2f}\".format(angle_p2t*180/pi)+' deg','angle from pole 3 to trial: '+\"{0:.2f}\".format(angle_p3t*180/pi)+' deg','angle from zero 1 to trial: '+\"{0:.2f}\".format(angle_z1t*180/pi)+' deg','Total angle of GH (0-sum(angles of poles -> trial))'])\n",
    "    \n",
    "    \n",
    "    show()\n",
    "    \n",
    "\n",
    "interact(updatePlot, trialpt_wn=widgets.FloatSlider(min=1,max=25,step=1,value=10),trialpt_zeta=widgets.FloatSlider(min=0.1,max=1,step=.01,value=.7),zero=widgets.FloatSlider(min=-15,max=-1,step=.1,value=-7))"
   ]
  },
  {
   "cell_type": "markdown",
   "metadata": {
    "deletable": false,
    "editable": false,
    "nbgrader": {
     "cell_type": "markdown",
     "checksum": "f0c7a8178ad6839d37882a29e38347b2",
     "grade": false,
     "grade_id": "cell-4c013e9abe8c566a",
     "locked": true,
     "schema_version": 3,
     "solution": false
    }
   },
   "source": [
    "As you play with the interactive plot, notice how the shape of the locus changes when you move the controller zero to different portions of the real axis. \n",
    "\n",
    "**TRY THIS:** Watch what happens if the zero is in between the controller pole at $s=0$ and the first plant pole at $s=-8$, if it's in between the two plant poles, or if it's to the left of both plant poles. We could wrestle with the interactive plot to help us place our zero, but just like the PD control design problem, it's far less work to use the angle deficiency to help us place our pole directly. "
   ]
  },
  {
   "cell_type": "markdown",
   "metadata": {
    "deletable": false,
    "editable": false,
    "nbgrader": {
     "cell_type": "markdown",
     "checksum": "7eb16a325d4b3128459ef39f3c9c2dc8",
     "grade": false,
     "grade_id": "cell-0d264be37f8bac98",
     "locked": true,
     "schema_version": 3,
     "solution": false
    }
   },
   "source": [
    "### Angle Deficiency Design for PI Control\n",
    "\n",
    "For our PI controller, we will work with the following controller transfer function:\n",
    "\n",
    "$$C(s) = K_{sum}K_p\\frac{s+\\frac{K_i}{K_p}}{s}=K\\frac{s+z}{s} = KC^\\star(s)$$\n",
    "\n",
    "Which means that our \"open loop transfer function\" for the root locus is:\n",
    "\n",
    "$$G(s)H(s) = C^\\star P(s)H(s) = \\frac{s+z}{s(s+8)(s+12)}$$\n",
    "\n",
    "As before with the PD control example, we will simply apply the angle criterion to our design to find the location of our control zero:\n",
    "\n",
    "$$\\left.\\angle(G(s)H(s))\\right|_{s=s_d}=\\sum(\\angle zeros(G(s)H(s))\\rightarrow s_d) - \\sum(\\angle poles(G(s)H(s))\\rightarrow s_d)=\\pm 180^\\circ$$"
   ]
  },
  {
   "cell_type": "markdown",
   "metadata": {
    "deletable": false,
    "editable": false,
    "nbgrader": {
     "cell_type": "markdown",
     "checksum": "74adc7f33a4e597862a4ccb2d392a6cc",
     "grade": false,
     "grade_id": "cell-e3e6dafe43f1809f",
     "locked": true,
     "schema_version": 3,
     "solution": false
    }
   },
   "source": [
    "Plotting the angle criterion graphically on a pole-zero plot will allow us to determine the unknown angle from the controller zero to the pole, $\\alpha_z$. \n"
   ]
  },
  {
   "cell_type": "markdown",
   "metadata": {
    "deletable": false,
    "editable": false,
    "nbgrader": {
     "cell_type": "markdown",
     "checksum": "d85d5db10f2a7dec038e4eea791c5b28",
     "grade": false,
     "grade_id": "cell-53d2f8fddc231123",
     "locked": true,
     "schema_version": 3,
     "solution": false
    }
   },
   "source": [
    "<img src=\"data:image/png;base64,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\" style=\"cursor:pointer;max-width:100%;\" onclick=\"(function(img){if(img.wnd!=null&&!img.wnd.closed){img.wnd.focus();}else{var r=function(evt){if(evt.data=='ready'&&evt.source==img.wnd){img.wnd.postMessage(decodeURIComponent(img.getAttribute('src')),'*');window.removeEventListener('message',r);}};window.addEventListener('message',r);img.wnd=window.open('https://www.draw.io/?client=1&lightbox=1&edit=_blank');}})(this);\"/>"
   ]
  },
  {
   "cell_type": "markdown",
   "metadata": {
    "deletable": false,
    "editable": false,
    "nbgrader": {
     "cell_type": "markdown",
     "checksum": "cf05fd220f1759ccb9c0a4cae0837b77",
     "grade": false,
     "grade_id": "cell-57957b001dea703e",
     "locked": true,
     "schema_version": 3,
     "solution": false
    }
   },
   "source": [
    "Of course, until we enforce the angle criterion numerically, $\\alpha_z$ is still unknown. Our drawing of where the controller zero lies on the s-plane could be incorrect, so we won't presume to know exactly how the root locus will look under PI control until we know where our controller zero will end up. To compute $\\alpha_z$, we apply the angle criterion:\n",
    "\n",
    "$$\\left. \\angle (G(s)H(s))\\right|_{s=s_d} = \\alpha_z - \\angle p_1 - \\angle p_2 - \\angle p_3 = \\alpha_z - \\tan^{-1}\\frac{8}{-8}-\\tan^{-1}\\frac{8}{0} - \\tan^{-1}\\frac{8}{4}=\\pm 180^\\circ$$\n",
    "\n",
    "Computing these angles yields $\\alpha_z = 108.44^\\circ$. This tells us that our controller zero is to the right of $s=-8$. Using trigonometry, we can find this zero's exact location at $-z = -5.3325$. Because we didn't draw the root locus for our new \"open loop transfer function\" above, let's let Python draw it below:"
   ]
  },
  {
   "cell_type": "code",
   "execution_count": 6,
   "metadata": {
    "ExecuteTime": {
     "end_time": "2017-10-23T02:57:30.536789Z",
     "start_time": "2017-10-23T02:57:30.174583Z"
    },
    "deletable": false,
    "editable": false,
    "nbgrader": {
     "cell_type": "code",
     "checksum": "0ec2eae8f71b6b86911b70da1cda9baf",
     "grade": false,
     "grade_id": "cell-2f9cb90a914b67e6",
     "locked": true,
     "schema_version": 3,
     "solution": false,
     "task": false
    }
   },
   "outputs": [
    {
     "data": {
      "image/png": "[encoded data removed]",
      "text/plain": [
       "<Figure size 432x288 with 1 Axes>"
      ]
     },
     "metadata": {
      "needs_background": "light"
     },
     "output_type": "display_data"
    }
   ],
   "source": [
    "from control import rlocus #imports the root locus function from python's control library (matlab-like)\n",
    "from numpy import * #imports matlab-like matrix library\n",
    "from matplotlib.pyplot import * #imports plotting functions\n",
    "from scipy.signal import lti #imports functions to make transfer functions\n",
    "\n",
    "openloop_num = [1, 5.3325]#numerator coefficients in decreasing powers of s\n",
    "openloop_den = [1,20,96, 0]#denominator coefficients\n",
    "sys_openloop = lti(openloop_num,openloop_den);\n",
    "rlocus(sys_openloop)\n",
    "plot(-8,8,'ko')\n",
    "show()"
   ]
  },
  {
   "cell_type": "markdown",
   "metadata": {
    "deletable": false,
    "editable": false,
    "nbgrader": {
     "cell_type": "markdown",
     "checksum": "587aa5ec51a0344f2a9e7db5237b04c8",
     "grade": false,
     "grade_id": "cell-372a7b74a091ec11",
     "locked": true,
     "schema_version": 3,
     "solution": false
    }
   },
   "source": [
    "\n",
    "According to Python, our root locus now passes through our design eigenvalue $s_d$!! That's good news. Now, Using the magnitude criterion, we evaluate:\n",
    "\n",
    "$$\\left|G(s)H(s)\\right|_{s=s_d} = \\left|\\frac{-1}{K}\\right|$$\n",
    "\n",
    "Evaluating the algebra here yields a root locus gain of $K=95.99$.\n",
    "\n",
    "Now, for a PI controller, we know that $z=\\frac{K_i}{K_p}$, and if we again assume $K_{sum}=1$, we can solve for our controller gains: $K_p = 95.99$, and $K_i = 511.9$.\n",
    "\n",
    "Last, we'll simulate our design and check out the voltage magnitudes that result from a unit step request on $r(s)$."
   ]
  },
  {
   "cell_type": "code",
   "execution_count": 7,
   "metadata": {
    "ExecuteTime": {
     "end_time": "2017-10-23T03:21:01.104023Z",
     "start_time": "2017-10-23T03:20:57.886161Z"
    },
    "deletable": false,
    "editable": false,
    "nbgrader": {
     "cell_type": "code",
     "checksum": "0d63104d072900ba5d67f5daaa8a0c00",
     "grade": false,
     "grade_id": "cell-5c93ddf7f1821c88",
     "locked": true,
     "schema_version": 3,
     "solution": false,
     "task": false
    }
   },
   "outputs": [
    {
     "data": {
      "text/plain": [
       "ans ="
      ]
     },
     "metadata": {},
     "output_type": "display_data"
    },
    {
     "data": {
      "text/plain": []
     },
     "metadata": {},
     "output_type": "display_data"
    },
    {
     "data": {
      "text/plain": [
       "  -8.0004 + 7.9996i"
      ]
     },
     "metadata": {},
     "output_type": "display_data"
    },
    {
     "data": {
      "text/plain": [
       "  -8.0004 - 7.9996i"
      ]
     },
     "metadata": {},
     "output_type": "display_data"
    },
    {
     "data": {
      "text/plain": [
       "  -3.9992 + 0.0000i"
      ]
     },
     "metadata": {},
     "output_type": "display_data"
    },
    {
     "data": {
      "text/plain": []
     },
     "metadata": {},
     "output_type": "display_data"
    },
    {
     "data": {
      "image/png": "[encoded data removed]",
      "text/plain": [
       "<IPython.core.display.Image object>"
      ]
     },
     "metadata": {},
     "output_type": "display_data"
    },
    {
     "data": {
      "image/png": "[encoded data removed]",
      "text/plain": [
       "<IPython.core.display.Image object>"
      ]
     },
     "metadata": {},
     "output_type": "display_data"
    }
   ],
   "source": [
    "%%octave\n",
    "s = tf('s');\n",
    "H = 1;\n",
    "P = 1/((s+12)*(s+8));\n",
    "Ksum = 1;\n",
    "Kp = 95.99;\n",
    "Ki = 511.9;\n",
    "\n",
    "C = Ksum*(Kp+Ki/s);\n",
    "\n",
    "G_closedloop = minreal(C*P/(1+C*P*H));\n",
    "\n",
    "%check eigenvalues\n",
    "[num,den] = tfdata(G_closedloop,'v');\n",
    "roots(den)%these should include an eig at -12+12j\n",
    "\n",
    "%magnitude of our step input\n",
    "r_mag = 1;\n",
    "%simulate step response \n",
    "[y,t] = step(r_mag*G_closedloop);\n",
    "\n",
    "%calculate our error signal\n",
    "e = r_mag-y;\n",
    "%calculate error derivative\n",
    "[u_i,t] = lsim(Ki/s,e,t);%this simulates the error signal going through the ki/s transfer function.\n",
    "%calculate control voltage from each piece (proportional, derivative)\n",
    "u_p = Kp*e;\n",
    "u_total = Ksum*(u_p+u_i);\n",
    "\n",
    "%plot our results\n",
    "figure()\n",
    "\n",
    "plot(t,y,'k')\n",
    "xlabel('Time (s)')\n",
    "ylabel('System Output y(t)')\n",
    "figure()\n",
    "plot(t,u_p,t,u_i,t,u_total)\n",
    "legend('proportional','integral','total')\n",
    "xlabel('Time (s)')\n",
    "ylabel('control signal')"
   ]
  },
  {
   "cell_type": "markdown",
   "metadata": {
    "deletable": false,
    "editable": false,
    "nbgrader": {
     "cell_type": "markdown",
     "checksum": "27b8a2123a7265bfa2f7dde805b77366",
     "grade": false,
     "grade_id": "cell-791479b64f15dceb",
     "locked": true,
     "schema_version": 3,
     "solution": false
    }
   },
   "source": [
    "Some interesting notes about this design: \n",
    "\n",
    "If we aren't concerned with the voltage magnitudes, some might argue that PI control was much more successful for this system than PD control (note that PD controller generates a controler signal that is almost 2X what is needed for PI).\n",
    "\n",
    "However, integral gain of the PI controller drove steady-state error to zero! We asked for $r(s)=1$ in steady state, and the PI controller was able to hit that exactly! "
   ]
  },
  {
   "cell_type": "markdown",
   "metadata": {
    "deletable": false,
    "editable": false,
    "nbgrader": {
     "cell_type": "markdown",
     "checksum": "5138040d146087a4a044c0478b039fe4",
     "grade": false,
     "grade_id": "cell-26197ed7f4195f38",
     "locked": true,
     "schema_version": 3,
     "solution": false
    }
   },
   "source": [
    "## Summary of Angle Deficiency Goals and Process\n",
    "\n",
    "By using the angle criterion, we can place a controller zero at an \"unknown angle\" that guarantees that our root locus will pass through our design point. This allowed us to design a PD and a PI controller that met our design specifications. We will continue to develop this idea over the next week or two as we use the concept to solve more and more complex problems."
   ]
  }
 ],
 "metadata": {
  "hide_input": false,
  "kernelspec": {
   "display_name": "Python 3",
   "language": "python",
   "name": "python3"
  },
  "language_info": {
   "codemirror_mode": {
    "name": "ipython",
    "version": 3
   },
   "file_extension": ".py",
   "mimetype": "text/x-python",
   "name": "python",
   "nbconvert_exporter": "python",
   "pygments_lexer": "ipython3",
   "version": "3.6.9"
  },
  "nbTranslate": {
   "displayLangs": [
    "*"
   ],
   "hotkey": "alt-t",
   "langInMainMenu": true,
   "sourceLang": "en",
   "targetLang": "fr",
   "useGoogleTranslate": true
  },
  "toc": {
   "base_numbering": 1,
   "nav_menu": {
    "height": "30px",
    "width": "252px"
   },
   "number_sections": true,
   "sideBar": true,
   "skip_h1_title": true,
   "title_cell": "Table of Contents",
   "title_sidebar": "Contents",
   "toc_cell": true,
   "toc_position": {},
   "toc_section_display": "block",
   "toc_window_display": false
  },
  "varInspector": {
   "cols": {
    "lenName": 16,
    "lenType": 16,
    "lenVar": 40
   },
   "kernels_config": {
    "python": {
     "delete_cmd_postfix": "",
     "delete_cmd_prefix": "del ",
     "library": "var_list.py",
     "varRefreshCmd": "print(var_dic_list())"
    },
    "r": {
     "delete_cmd_postfix": ") ",
     "delete_cmd_prefix": "rm(",
     "library": "var_list.r",
     "varRefreshCmd": "cat(var_dic_list()) "
    }
   },
   "types_to_exclude": [
    "module",
    "function",
    "builtin_function_or_method",
    "instance",
    "_Feature"
   ],
   "window_display": false
  }
 },
 "nbformat": 4,
 "nbformat_minor": 2
}
